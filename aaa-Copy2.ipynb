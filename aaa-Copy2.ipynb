{
 "cells": [
  {
   "cell_type": "code",
   "execution_count": 1,
   "metadata": {},
   "outputs": [],
   "source": [
    "import pandas as pd\n",
    "import numpy as np\n",
    "import matplotlib.pyplot as plt\n",
    "import torch\n",
    "import torch.nn as nn\n",
    "import os\n",
    "import shutil\n",
    "from itertools import chain\n",
    "from torchvision.transforms import Compose\n",
    "import torch.nn.functional as F\n",
    "import transformers\n",
    "\n",
    "\n",
    "\n",
    "from PIL import Image\n",
    "import time\n",
    "from tqdm.notebook import tqdm\n",
    "\n",
    "from pathlib import Path\n",
    "import matplotlib.pyplot as plt\n",
    "from torchvision.transforms import RandomVerticalFlip,RandomHorizontalFlip,Normalize,ToTensor,Resize,RandomRotation,InterpolationMode\n",
    "from torchvision.transforms import v2\n",
    "from torch.utils.data import Dataset, DataLoader\n"
   ]
  },
  {
   "cell_type": "code",
   "execution_count": 2,
   "metadata": {},
   "outputs": [],
   "source": [
    "# data_path = Path.cwd()\n",
    "# shutil.unpack_archive(data_path / Path(\"data.zip\"), data_path)\n"
   ]
  },
  {
   "cell_type": "code",
   "execution_count": 2,
   "metadata": {},
   "outputs": [],
   "source": [
    "class rellis_dataset(Dataset):\n",
    "    \"\"\"\n",
    "    Using 6 classes\n",
    "    \"\"\"\n",
    "    def __init__(self, data_root_dir, txt_file, transform=None, target_transform=None):\n",
    "        \"\"\"\n",
    "        data_root_dit: root directory of the dataset, e.g. './data/rellis'\n",
    "        txt_file: path to the train.txt listing image files\n",
    "        \n",
    "        \"\"\"\n",
    "        self.data_root_dir = data_root_dir\n",
    "        self.transform = transform\n",
    "        self.target_transform = target_transform\n",
    "        with open(txt_file, 'r') as f:\n",
    "            self.image_paths = [line.strip() for line in f.readlines()]\n",
    "    \n",
    "    def __len__(self):\n",
    "        return len(self.image_paths)\n",
    "    \n",
    "    def __getitem__(self, index):\n",
    "        img_path = os.path.join(self.data_root_dir, 'image', self.image_paths[index] + '.jpg')\n",
    "        ann_path = os.path.join(self.data_root_dir, 'annotation', self.image_paths[index] + '_group6.png')\n",
    "        image = Image.open(img_path).convert('RGB')\n",
    "        annotation = Image.open(ann_path)\n",
    "        if self.transform:\n",
    "            image = self.transform(image)\n",
    "        if self.target_transform:\n",
    "            annotation = self.target_transform(annotation)\n",
    "        annotation = (annotation*256).long() # turn the label to the interger\n",
    "        \n",
    "        annotation=(nn.functional.one_hot(annotation,6))\n",
    "        annotation = np.transpose(annotation, (0,3,1,2))\n",
    "        # print(annotation.shape)\n",
    "        return image, annotation"
   ]
  },
  {
   "cell_type": "code",
   "execution_count": 3,
   "metadata": {},
   "outputs": [
    {
     "name": "stdout",
     "output_type": "stream",
     "text": [
      "The number of samples is: 983\n"
     ]
    }
   ],
   "source": [
    "transform = Compose([Resize((256, 256),interpolation=InterpolationMode.NEAREST),\n",
    "    # RandomHorizontalFlip(),\n",
    "    # RandomVerticalFlip(),\n",
    "    # RandomRotation(30),                \n",
    "    ToTensor()\n",
    "                       ])\n",
    "target_transform = Compose([Resize((256, 256),interpolation=InterpolationMode.NEAREST),\n",
    "    # RandomHorizontalFlip(),\n",
    "    RandomVerticalFlip(),\n",
    "    # RandomRotation(30),                \n",
    "    ToTensor()\n",
    "                       ])\n",
    "example_dataset= rellis_dataset(data_root_dir='./data/rellis', txt_file='./data/rellis/val.txt', transform=transform, target_transform=transform)\n",
    "number_of_samples = len(example_dataset)\n",
    "\n",
    "\n",
    "print(f\"The number of samples is: {number_of_samples}\")\n"
   ]
  },
  {
   "cell_type": "code",
   "execution_count": 5,
   "metadata": {},
   "outputs": [],
   "source": [
    "# def display_image(axis, image_tensor,ann_tensor):\n",
    "#     \"\"\"Display a tensor as an image\n",
    "\n",
    "#     Args:\n",
    "#         axis (pyplot axis)\n",
    "#         image_tensor (torch.Tensor): tensor with shape (num_channels=3, width, heigth)\n",
    "#     \"\"\"\n",
    "\n",
    "#     # See hint above\n",
    "#     if not isinstance(image_tensor, torch.Tensor):\n",
    "#         raise TypeError(\n",
    "#             \"The `display_image` function expects a `torch.Tensor` \"\n",
    "#             + \"use the `ToTensor` transformation to convert the images to tensors.\"\n",
    "#         )\n",
    "\n",
    "#     # The imshow commands expects a `numpy array` with shape (3, width, height)\n",
    "#     # We rearrange the dimensions with `permute` and then convert it to `numpy`\n",
    "#     image_data = image_tensor.permute(1, 2, 0).numpy()\n",
    "#     ann_data = ann_tensor.permute(1, 2, 0).numpy()\n",
    "#     height, width, _ = image_data.shape\n",
    "#     axis.imshow(image_data)\n",
    "#     axis.imshow(ann_data, alpha=0.6)\n",
    "#     axis.set_xlim(0, width)\n",
    "#     # By convention when working with images, the origin is at the top left corner.\n",
    "#     # Therefore, we switch the order of the y limits.\n",
    "#     axis.set_ylim(height, 0)\n",
    "\n",
    "\n",
    "# # Example usage\n",
    "# _, axis = plt.subplots()\n",
    "# some_random_index = 453\n",
    "# # Here we use the __getitem__ method as a \"magic\" method.\n",
    "# # Implementing it for a class, enables square bracket '[]' indexing\n",
    "# image_tensor,annotation = example_dataset[some_random_index]\n",
    "\n",
    "# display_image(axis, image_tensor,annotation)\n",
    "# print(nn.functional.one_hot(annotation,6).shape)\n",
    "# print(image_tensor.shape)"
   ]
  },
  {
   "cell_type": "markdown",
   "metadata": {},
   "source": [
    "dataset"
   ]
  },
  {
   "cell_type": "code",
   "execution_count": 4,
   "metadata": {},
   "outputs": [],
   "source": [
    "NUM_GPUS = torch.cuda.device_count()\n",
    "if NUM_GPUS > 1:\n",
    "    model = torch.nn.DataParallel(model)\n",
    "\n",
    "batch_size = 128\n",
    "\n",
    "transforms_1 = Compose([Resize((256, 256),interpolation=InterpolationMode.NEAREST),\n",
    "    # RandomHorizontalFlip(),\n",
    "    # RandomVerticalFlip(),\n",
    "    # RandomRotation(30),                \n",
    "    ToTensor()\n",
    "                       ])\n",
    "\n",
    "transforms_2 = Compose([Resize((256, 256),interpolation=InterpolationMode.NEAREST),\n",
    "    # RandomRotation(30),                \n",
    "    ToTensor()\n",
    "                       ])\n",
    "\n",
    "train_dir = './train'\n",
    "train_dataset= rellis_dataset(data_root_dir='./data/rellis', txt_file='./data/rellis/train.txt', transform=transforms_1, target_transform=transforms_1)\n",
    "\n",
    "val_dir = './val'\n",
    "val_dataset= rellis_dataset(data_root_dir='./data/rellis', txt_file='./data/rellis/val.txt', transform=transforms_2, target_transform=transforms_2)\n",
    "\n",
    "train_dataloader = DataLoader(train_dataset, batch_size=batch_size, shuffle=True,num_workers = NUM_GPUS)\n",
    "val_dataloader = DataLoader(val_dataset, batch_size=batch_size, shuffle=True,num_workers = NUM_GPUS)"
   ]
  },
  {
   "cell_type": "markdown",
   "metadata": {},
   "source": [
    "CNN Block"
   ]
  },
  {
   "cell_type": "markdown",
   "metadata": {},
   "source": [
    "Encoder Block"
   ]
  },
  {
   "cell_type": "markdown",
   "metadata": {},
   "source": [
    "Decoder block"
   ]
  },
  {
   "cell_type": "markdown",
   "metadata": {},
   "source": [
    "model"
   ]
  },
  {
   "cell_type": "code",
   "execution_count": 5,
   "metadata": {},
   "outputs": [],
   "source": [
    "class DownConv2(nn.Module):\n",
    "    def __init__(self, chin, chout, kernel_size):\n",
    "        super().__init__()\n",
    "        self.seq = nn.Sequential(\n",
    "            nn.Conv2d(in_channels=chin, out_channels=chout, kernel_size=kernel_size, padding=kernel_size//2),\n",
    "            nn.BatchNorm2d(chout),\n",
    "            nn.ReLU(),\n",
    "            nn.Conv2d(in_channels=chout, out_channels=chout, kernel_size=kernel_size, padding=kernel_size//2),\n",
    "            nn.BatchNorm2d(chout),\n",
    "            nn.ReLU(),\n",
    "        )\n",
    "        self.mp = nn.MaxPool2d(kernel_size=2, return_indices=True)\n",
    "\n",
    "    def forward(self, x):\n",
    "        y = self.seq(x)\n",
    "        pool_shape = y.shape\n",
    "        y, indices = self.mp(y)\n",
    "        return y, indices, pool_shape\n",
    "\n",
    "class DownConv3(nn.Module):\n",
    "    def __init__(self, chin, chout, kernel_size):\n",
    "        super().__init__()\n",
    "        self.seq = nn.Sequential(\n",
    "            nn.Conv2d(in_channels=chin, out_channels=chout, kernel_size=kernel_size, padding=kernel_size//2),\n",
    "            nn.BatchNorm2d(chout),\n",
    "            nn.ReLU(),\n",
    "            nn.Conv2d(in_channels=chout, out_channels=chout, kernel_size=kernel_size, padding=kernel_size//2),\n",
    "            nn.BatchNorm2d(chout),\n",
    "            nn.ReLU(),\n",
    "            nn.Conv2d(in_channels=chout, out_channels=chout, kernel_size=kernel_size, padding=kernel_size//2),\n",
    "            nn.BatchNorm2d(chout),\n",
    "            nn.ReLU(),\n",
    "        )\n",
    "        self.mp = nn.MaxPool2d(kernel_size=2, return_indices=True)\n",
    "\n",
    "    def forward(self, x):\n",
    "        y = self.seq(x)\n",
    "        pool_shape = y.shape\n",
    "        y, indices = self.mp(y)\n",
    "        return y, indices, pool_shape\n",
    "\n",
    "class UpConv2(nn.Module):\n",
    "    def __init__(self, chin, chout, kernel_size):\n",
    "        super().__init__()\n",
    "        self.seq = nn.Sequential(\n",
    "            nn.Conv2d(in_channels=chin, out_channels=chin, kernel_size=kernel_size, padding=kernel_size//2),\n",
    "            nn.BatchNorm2d(chin),\n",
    "            nn.ReLU(),\n",
    "            nn.Conv2d(in_channels=chin, out_channels=chout, kernel_size=kernel_size, padding=kernel_size//2),\n",
    "            nn.BatchNorm2d(chout),\n",
    "            nn.ReLU(),\n",
    "        )\n",
    "        self.mup = nn.MaxUnpool2d(kernel_size=2)\n",
    "\n",
    "    def forward(self, x, indices, output_size):\n",
    "        y = self.mup(x, indices, output_size=output_size)\n",
    "        y = self.seq(y)\n",
    "        return y\n",
    "\n",
    "class UpConv3(nn.Module):\n",
    "    def __init__(self, chin, chout, kernel_size):\n",
    "        super().__init__()\n",
    "        self.seq = nn.Sequential(\n",
    "            nn.Conv2d(in_channels=chin, out_channels=chin, kernel_size=kernel_size, padding=kernel_size//2),\n",
    "            nn.BatchNorm2d(chin),\n",
    "            nn.ReLU(),\n",
    "            nn.Conv2d(in_channels=chin, out_channels=chin, kernel_size=kernel_size, padding=kernel_size//2),\n",
    "            nn.BatchNorm2d(chin),\n",
    "            nn.ReLU(),\n",
    "            nn.Conv2d(in_channels=chin, out_channels=chout, kernel_size=kernel_size, padding=kernel_size//2),\n",
    "            nn.BatchNorm2d(chout),\n",
    "            nn.ReLU(),\n",
    "        )\n",
    "        self.mup = nn.MaxUnpool2d(kernel_size=2)\n",
    "\n",
    "    def forward(self, x, indices, output_size):\n",
    "        y = self.mup(x, indices, output_size=output_size)\n",
    "        y = self.seq(y)\n",
    "        return y\n",
    "\n",
    "\n",
    "class ImageSegmentation(torch.nn.Module):\n",
    "    def __init__(self, kernel_size):\n",
    "        super().__init__()\n",
    "        self.out_channels = 6\n",
    "        self.bn_input = nn.BatchNorm2d(3)\n",
    "        self.dc1 = DownConv2(3, 12, kernel_size=kernel_size)\n",
    "        # self.dc2 = DownConv2(12, 24, kernel_size=kernel_size)\n",
    "        # self.dc3 = DownConv3(20, 50, kernel_size=kernel_size)\n",
    "        # self.dc4 = DownConv3(50, 100, kernel_size=kernel_size)\n",
    "        self.dc5 = DownConv3(12, 12, kernel_size=kernel_size)\n",
    "\n",
    "        self.uc5 = UpConv3(12, 12, kernel_size=kernel_size)\n",
    "        # self.uc4 = UpConv3(100, 50, kernel_size=kernel_size)\n",
    "        # self.uc3 = UpConv3(50, 20, kernel_size=kernel_size)\n",
    "        # self.uc2 = UpConv2(24, 12, kernel_size=kernel_size)\n",
    "        self.uc1 = UpConv2(12, 6, kernel_size=kernel_size)\n",
    "\n",
    "    def forward(self, batch: torch.Tensor):\n",
    "        x = self.bn_input(batch)\n",
    "        # x = batch\n",
    "        # Encoder\n",
    "        x, mp1_indices, shape1 = self.dc1(x)\n",
    "        # x, mp2_indices, shape2 = self.dc2(x)\n",
    "        # x, mp3_indices, shape3 = self.dc3(x)\n",
    "        # x, mp4_indices, shape4 = self.dc4(x)\n",
    "        x, mp5_indices, shape5 = self.dc5(x)\n",
    "\n",
    "        # Decoder\n",
    "        x = self.uc5(x, mp5_indices, output_size=shape5)\n",
    "        # x = self.uc4(x, mp4_indices, output_size=shape4)\n",
    "        # x = self.uc3(x, mp3_indices, output_size=shape3)\n",
    "        # x = self.uc2(x, mp2_indices, output_size=shape2)\n",
    "        x = self.uc1(x, mp1_indices, output_size=shape1)\n",
    "\n",
    "        return x\n",
    "    \n",
    "\n",
    "model=ImageSegmentation(3)\n",
    "model.uc1.seq[5] = nn.Softmax(dim=1)"
   ]
  },
  {
   "cell_type": "markdown",
   "metadata": {},
   "source": [
    "trainning"
   ]
  },
  {
   "cell_type": "code",
   "execution_count": 6,
   "metadata": {},
   "outputs": [],
   "source": [
    "def mIoU(pred_mask, mask, smooth=1e-10, n_classes=6):\n",
    "    with torch.no_grad():\n",
    "        # pred_mask = F.softmax(pred_mask, dim=1)\n",
    "        # pred_mask = torch.argmax(pred_mask, dim=1)\n",
    "        # print(pred_mask.shape)\n",
    "        # print(mask.shape)\n",
    "        mask=torch.argmax(mask, dim=1).squeeze(0)\n",
    "        pred_mask=torch.argmax(pred_mask, dim=1).squeeze(0)\n",
    "        pred_mask = pred_mask.contiguous().view(-1)\n",
    "        mask = mask.contiguous().view(-1)\n",
    "        # print(pred_mask.shape)\n",
    "        # print(mask.shape)\n",
    "\n",
    "        iou_per_class = []\n",
    "        for clas in range(0, n_classes): #loop per pixel class\n",
    "            true_class = pred_mask == clas\n",
    "            true_label = mask == clas\n",
    "\n",
    "            if true_label.long().sum().item() == 0: #no exist label in this loop\n",
    "                iou_per_class.append(np.nan)\n",
    "            else:\n",
    "                intersect = torch.logical_and(true_class, true_label).sum().float().item()\n",
    "                union = torch.logical_or(true_class, true_label).sum().float().item()\n",
    "\n",
    "                iou = (intersect + smooth) / (union +smooth)\n",
    "                iou_per_class.append(iou)\n",
    "        return np.nanmean(iou_per_class)\n",
    "\n",
    "\n",
    "def compute_accuracy(testDataLoader,loss_fn,model,device):\n",
    "\n",
    "    model.eval()  \n",
    "    total_loss = 0.0\n",
    "    val_accuracy = 0.0\n",
    "    with torch.no_grad():\n",
    "        for inputs, labels in testDataLoader:\n",
    "            inputs, labels = inputs.to(device), labels.to(device)\n",
    "            outputs = model(inputs)\n",
    "            loss = loss_fn.calculate_average_dice_loss(outputs, labels.squeeze(1))\n",
    "            # loss = loss_fn(torch.argmax(outputs, dim=1).float(), torch.argmax(labels.squeeze(1), dim=1).float())            \n",
    "            # test_accuracy += pixel_accuracy(output, mask)\n",
    "            val_accuracy += mIoU(outputs, labels.squeeze(1))\n",
    "            total_loss += loss.item()\n",
    "\n",
    "    return total_loss / len(testDataLoader), val_accuracy / len(testDataLoader)\n",
    "\n",
    "class DiceLoss(nn.Module):\n",
    "    def __init__(self):\n",
    "        super(DiceLoss, self).__init__()\n",
    "\n",
    "    def forward(self, input, target):\n",
    "        smooth = 1.0\n",
    "        # print(input.shape,target.shape)\n",
    "        iflat = input.reshape(-1)\n",
    "        tflat = target.reshape(-1)\n",
    "        intersection = (iflat * tflat).sum()\n",
    "\n",
    "        dice_loss = 1 - ((2.0 * intersection + smooth) / (iflat.sum() + tflat.sum() + smooth))\n",
    "\n",
    "        return dice_loss\n",
    "\n",
    "    def calculate_average_dice_loss(self, inputs, targets):\n",
    "        num_channels = inputs.size(1)\n",
    "        # print(num_channels)\n",
    "\n",
    "        # Calculate Dice loss for each channel\n",
    "        dice_losses = []\n",
    "        for channel in range(num_channels):\n",
    "            input_channel = inputs[:, channel, ...].unsqueeze(1)\n",
    "            target_channel = targets[:, channel, ...].unsqueeze(1)\n",
    "            # print(input_channel,target_channel)\n",
    "            dice_loss_channel = self.forward(input_channel, target_channel)\n",
    "            dice_losses.append(dice_loss_channel)\n",
    "\n",
    "        # Calculate average Dice loss\n",
    "        average_dice_loss = torch.mean(torch.stack(dice_losses))\n",
    "\n",
    "        return average_dice_loss\n",
    "    \n",
    "dice_loss=DiceLoss()\n",
    "\n",
    "def train(model, dataloader, loss_fn, optimizer, device, ldl, lts): \n",
    "    model.train()  \n",
    "    total_loss = 0\n",
    "    train_accuracy = 0 \n",
    "\n",
    "    for batch in tqdm(dataloader):\n",
    "        inputs, labels = batch[0].to(device), batch[1].to(device)\n",
    "        # print(inputs.shape)\n",
    "        # print(outputs.shape)\n",
    "        optimizer.zero_grad() \n",
    "        outputs = model(inputs)\n",
    "        # print(inputs.shape)\n",
    "        # print(outputs.shape)\n",
    "        # print(labels.squeeze(1).shape)\n",
    "\n",
    "        loss = loss_fn.calculate_average_dice_loss(outputs, labels.squeeze(1))\n",
    "        # loss = loss_fn(torch.argmax(outputs, dim=1).float(),torch.argmax(labels.squeeze(1), dim=1).float())\n",
    "        train_accuracy += mIoU(outputs, labels.squeeze(1))\n",
    "        # print(train_accuracy/ldl)\n",
    "\n",
    "        loss.backward()     \n",
    "        optimizer.step()   \n",
    "\n",
    "        total_loss += loss.item()\n",
    "\n",
    "    return total_loss / ldl, train_accuracy / ldl"
   ]
  },
  {
   "cell_type": "code",
   "execution_count": 7,
   "metadata": {},
   "outputs": [
    {
     "data": {
      "text/plain": [
       "ImageSegmentation(\n",
       "  (bn_input): BatchNorm2d(3, eps=1e-05, momentum=0.1, affine=True, track_running_stats=True)\n",
       "  (dc1): DownConv2(\n",
       "    (seq): Sequential(\n",
       "      (0): Conv2d(3, 12, kernel_size=(3, 3), stride=(1, 1), padding=(1, 1))\n",
       "      (1): BatchNorm2d(12, eps=1e-05, momentum=0.1, affine=True, track_running_stats=True)\n",
       "      (2): ReLU()\n",
       "      (3): Conv2d(12, 12, kernel_size=(3, 3), stride=(1, 1), padding=(1, 1))\n",
       "      (4): BatchNorm2d(12, eps=1e-05, momentum=0.1, affine=True, track_running_stats=True)\n",
       "      (5): ReLU()\n",
       "    )\n",
       "    (mp): MaxPool2d(kernel_size=2, stride=2, padding=0, dilation=1, ceil_mode=False)\n",
       "  )\n",
       "  (dc5): DownConv3(\n",
       "    (seq): Sequential(\n",
       "      (0): Conv2d(12, 12, kernel_size=(3, 3), stride=(1, 1), padding=(1, 1))\n",
       "      (1): BatchNorm2d(12, eps=1e-05, momentum=0.1, affine=True, track_running_stats=True)\n",
       "      (2): ReLU()\n",
       "      (3): Conv2d(12, 12, kernel_size=(3, 3), stride=(1, 1), padding=(1, 1))\n",
       "      (4): BatchNorm2d(12, eps=1e-05, momentum=0.1, affine=True, track_running_stats=True)\n",
       "      (5): ReLU()\n",
       "      (6): Conv2d(12, 12, kernel_size=(3, 3), stride=(1, 1), padding=(1, 1))\n",
       "      (7): BatchNorm2d(12, eps=1e-05, momentum=0.1, affine=True, track_running_stats=True)\n",
       "      (8): ReLU()\n",
       "    )\n",
       "    (mp): MaxPool2d(kernel_size=2, stride=2, padding=0, dilation=1, ceil_mode=False)\n",
       "  )\n",
       "  (uc5): UpConv3(\n",
       "    (seq): Sequential(\n",
       "      (0): Conv2d(12, 12, kernel_size=(3, 3), stride=(1, 1), padding=(1, 1))\n",
       "      (1): BatchNorm2d(12, eps=1e-05, momentum=0.1, affine=True, track_running_stats=True)\n",
       "      (2): ReLU()\n",
       "      (3): Conv2d(12, 12, kernel_size=(3, 3), stride=(1, 1), padding=(1, 1))\n",
       "      (4): BatchNorm2d(12, eps=1e-05, momentum=0.1, affine=True, track_running_stats=True)\n",
       "      (5): ReLU()\n",
       "      (6): Conv2d(12, 12, kernel_size=(3, 3), stride=(1, 1), padding=(1, 1))\n",
       "      (7): BatchNorm2d(12, eps=1e-05, momentum=0.1, affine=True, track_running_stats=True)\n",
       "      (8): ReLU()\n",
       "    )\n",
       "    (mup): MaxUnpool2d(kernel_size=(2, 2), stride=(2, 2), padding=(0, 0))\n",
       "  )\n",
       "  (uc1): UpConv2(\n",
       "    (seq): Sequential(\n",
       "      (0): Conv2d(12, 12, kernel_size=(3, 3), stride=(1, 1), padding=(1, 1))\n",
       "      (1): BatchNorm2d(12, eps=1e-05, momentum=0.1, affine=True, track_running_stats=True)\n",
       "      (2): ReLU()\n",
       "      (3): Conv2d(12, 6, kernel_size=(3, 3), stride=(1, 1), padding=(1, 1))\n",
       "      (4): BatchNorm2d(6, eps=1e-05, momentum=0.1, affine=True, track_running_stats=True)\n",
       "      (5): Softmax(dim=1)\n",
       "    )\n",
       "    (mup): MaxUnpool2d(kernel_size=(2, 2), stride=(2, 2), padding=(0, 0))\n",
       "  )\n",
       ")"
      ]
     },
     "execution_count": 7,
     "metadata": {},
     "output_type": "execute_result"
    }
   ],
   "source": [
    "import torch.optim as optim\n",
    "\n",
    "\n",
    "ldl = len(train_dataloader)\n",
    "\n",
    "num_epochs = 30\n",
    "params = [p for p in model.parameters() if p.requires_grad]\n",
    "optimizer = optim.Adam(model.parameters(), lr=0.001) #,weight_decay=0.0001\n",
    "\n",
    "\n",
    "if(torch.cuda.is_available()):\n",
    "    device = torch.device('cuda')\n",
    "elif(torch.backends.mps.is_available()):\n",
    "    device = torch.device('mps')\n",
    "else:\n",
    "    device = torch.device('cpu')\n",
    "\n",
    "model.to(device)"
   ]
  },
  {
   "cell_type": "code",
   "execution_count": 10,
   "metadata": {},
   "outputs": [
    {
     "data": {
      "application/vnd.jupyter.widget-view+json": {
       "model_id": "6ce7a28a0a59451eab6ea0c1c617c6de",
       "version_major": 2,
       "version_minor": 0
      },
      "text/plain": [
       "  0%|          | 0/26 [00:00<?, ?it/s]"
      ]
     },
     "metadata": {},
     "output_type": "display_data"
    },
    {
     "name": "stdout",
     "output_type": "stream",
     "text": [
      "Epoch 1/30, Train Loss: 0.7598\n",
      "Cross Acc: 0.8473\n",
      "train Acc: 0.2447\n",
      "val Acc: 0.0409\n"
     ]
    },
    {
     "data": {
      "application/vnd.jupyter.widget-view+json": {
       "model_id": "38ff8e431f854a1e8a81e4d9ea9bba63",
       "version_major": 2,
       "version_minor": 0
      },
      "text/plain": [
       "  0%|          | 0/26 [00:00<?, ?it/s]"
      ]
     },
     "metadata": {},
     "output_type": "display_data"
    },
    {
     "name": "stdout",
     "output_type": "stream",
     "text": [
      "Epoch 2/30, Train Loss: 0.6357\n",
      "Cross Acc: 0.6331\n",
      "train Acc: 0.3929\n",
      "val Acc: 0.3987\n"
     ]
    },
    {
     "data": {
      "application/vnd.jupyter.widget-view+json": {
       "model_id": "3eb91f727e11484f8ec84d9725736c5c",
       "version_major": 2,
       "version_minor": 0
      },
      "text/plain": [
       "  0%|          | 0/26 [00:00<?, ?it/s]"
      ]
     },
     "metadata": {},
     "output_type": "display_data"
    },
    {
     "name": "stdout",
     "output_type": "stream",
     "text": [
      "Epoch 3/30, Train Loss: 0.5925\n",
      "Cross Acc: 0.5850\n",
      "train Acc: 0.4304\n",
      "val Acc: 0.4298\n"
     ]
    },
    {
     "data": {
      "application/vnd.jupyter.widget-view+json": {
       "model_id": "50d2cecca944409bb1ce3f5d66e2b16e",
       "version_major": 2,
       "version_minor": 0
      },
      "text/plain": [
       "  0%|          | 0/26 [00:00<?, ?it/s]"
      ]
     },
     "metadata": {},
     "output_type": "display_data"
    },
    {
     "name": "stdout",
     "output_type": "stream",
     "text": [
      "Epoch 4/30, Train Loss: 0.5481\n",
      "Cross Acc: 0.5473\n",
      "train Acc: 0.4853\n",
      "val Acc: 0.4808\n"
     ]
    },
    {
     "data": {
      "application/vnd.jupyter.widget-view+json": {
       "model_id": "366bacec6bf84fc1ab8a032dd63aa2ef",
       "version_major": 2,
       "version_minor": 0
      },
      "text/plain": [
       "  0%|          | 0/26 [00:00<?, ?it/s]"
      ]
     },
     "metadata": {},
     "output_type": "display_data"
    },
    {
     "name": "stdout",
     "output_type": "stream",
     "text": [
      "Epoch 5/30, Train Loss: 0.5034\n",
      "Cross Acc: 0.5331\n",
      "train Acc: 0.5771\n",
      "val Acc: 0.5117\n"
     ]
    },
    {
     "data": {
      "application/vnd.jupyter.widget-view+json": {
       "model_id": "d15edf70683e40bd82b8ec068003f87f",
       "version_major": 2,
       "version_minor": 0
      },
      "text/plain": [
       "  0%|          | 0/26 [00:00<?, ?it/s]"
      ]
     },
     "metadata": {},
     "output_type": "display_data"
    },
    {
     "name": "stdout",
     "output_type": "stream",
     "text": [
      "Epoch 6/30, Train Loss: 0.4773\n",
      "Cross Acc: 0.5291\n",
      "train Acc: 0.6210\n",
      "val Acc: 0.5208\n"
     ]
    },
    {
     "data": {
      "application/vnd.jupyter.widget-view+json": {
       "model_id": "94893fa68ed24d3682ff735869e58b89",
       "version_major": 2,
       "version_minor": 0
      },
      "text/plain": [
       "  0%|          | 0/26 [00:00<?, ?it/s]"
      ]
     },
     "metadata": {},
     "output_type": "display_data"
    },
    {
     "name": "stdout",
     "output_type": "stream",
     "text": [
      "Epoch 7/30, Train Loss: 0.4609\n",
      "Cross Acc: 0.5242\n",
      "train Acc: 0.6340\n",
      "val Acc: 0.5050\n"
     ]
    },
    {
     "data": {
      "application/vnd.jupyter.widget-view+json": {
       "model_id": "8797da0129de4b6eb0df3529e4b7849b",
       "version_major": 2,
       "version_minor": 0
      },
      "text/plain": [
       "  0%|          | 0/26 [00:00<?, ?it/s]"
      ]
     },
     "metadata": {},
     "output_type": "display_data"
    },
    {
     "name": "stdout",
     "output_type": "stream",
     "text": [
      "Epoch 8/30, Train Loss: 0.4455\n",
      "Cross Acc: 0.5081\n",
      "train Acc: 0.6429\n",
      "val Acc: 0.5196\n"
     ]
    },
    {
     "data": {
      "application/vnd.jupyter.widget-view+json": {
       "model_id": "1a3a958f49d24af88aa339abdf6607e9",
       "version_major": 2,
       "version_minor": 0
      },
      "text/plain": [
       "  0%|          | 0/26 [00:00<?, ?it/s]"
      ]
     },
     "metadata": {},
     "output_type": "display_data"
    },
    {
     "name": "stdout",
     "output_type": "stream",
     "text": [
      "Epoch 9/30, Train Loss: 0.4305\n",
      "Cross Acc: 0.5046\n",
      "train Acc: 0.6606\n",
      "val Acc: 0.5180\n"
     ]
    },
    {
     "data": {
      "application/vnd.jupyter.widget-view+json": {
       "model_id": "39c1814b64e9437cae0da02411d1ea32",
       "version_major": 2,
       "version_minor": 0
      },
      "text/plain": [
       "  0%|          | 0/26 [00:00<?, ?it/s]"
      ]
     },
     "metadata": {},
     "output_type": "display_data"
    },
    {
     "name": "stdout",
     "output_type": "stream",
     "text": [
      "Epoch 10/30, Train Loss: 0.4186\n",
      "Cross Acc: 0.4847\n",
      "train Acc: 0.6659\n",
      "val Acc: 0.5316\n"
     ]
    },
    {
     "data": {
      "application/vnd.jupyter.widget-view+json": {
       "model_id": "36e06a44be7b4472a10f7678ea2e17e3",
       "version_major": 2,
       "version_minor": 0
      },
      "text/plain": [
       "  0%|          | 0/26 [00:00<?, ?it/s]"
      ]
     },
     "metadata": {},
     "output_type": "display_data"
    },
    {
     "name": "stdout",
     "output_type": "stream",
     "text": [
      "Epoch 11/30, Train Loss: 0.4053\n",
      "Cross Acc: 0.4778\n",
      "train Acc: 0.6787\n",
      "val Acc: 0.5357\n"
     ]
    },
    {
     "data": {
      "application/vnd.jupyter.widget-view+json": {
       "model_id": "ca689bfe2fe04f06a42cd25e34ff9348",
       "version_major": 2,
       "version_minor": 0
      },
      "text/plain": [
       "  0%|          | 0/26 [00:00<?, ?it/s]"
      ]
     },
     "metadata": {},
     "output_type": "display_data"
    },
    {
     "name": "stdout",
     "output_type": "stream",
     "text": [
      "Epoch 12/30, Train Loss: 0.3943\n",
      "Cross Acc: 0.4805\n",
      "train Acc: 0.6842\n",
      "val Acc: 0.5368\n"
     ]
    },
    {
     "data": {
      "application/vnd.jupyter.widget-view+json": {
       "model_id": "d537fda5d5bc44f5ae6a68157edb7a51",
       "version_major": 2,
       "version_minor": 0
      },
      "text/plain": [
       "  0%|          | 0/26 [00:00<?, ?it/s]"
      ]
     },
     "metadata": {},
     "output_type": "display_data"
    },
    {
     "name": "stdout",
     "output_type": "stream",
     "text": [
      "Epoch 13/30, Train Loss: 0.3808\n",
      "Cross Acc: 0.4532\n",
      "train Acc: 0.6968\n",
      "val Acc: 0.5492\n"
     ]
    },
    {
     "data": {
      "application/vnd.jupyter.widget-view+json": {
       "model_id": "2ea9a8cbe75a49df9c90bd96a061a885",
       "version_major": 2,
       "version_minor": 0
      },
      "text/plain": [
       "  0%|          | 0/26 [00:00<?, ?it/s]"
      ]
     },
     "metadata": {},
     "output_type": "display_data"
    },
    {
     "name": "stdout",
     "output_type": "stream",
     "text": [
      "Epoch 14/30, Train Loss: 0.3699\n",
      "Cross Acc: 0.4504\n",
      "train Acc: 0.7007\n",
      "val Acc: 0.5574\n"
     ]
    },
    {
     "data": {
      "application/vnd.jupyter.widget-view+json": {
       "model_id": "793865168af74c19b8245f9c93ece2a9",
       "version_major": 2,
       "version_minor": 0
      },
      "text/plain": [
       "  0%|          | 0/26 [00:00<?, ?it/s]"
      ]
     },
     "metadata": {},
     "output_type": "display_data"
    },
    {
     "ename": "KeyboardInterrupt",
     "evalue": "",
     "output_type": "error",
     "traceback": [
      "\u001b[0;31m---------------------------------------------------------------------------\u001b[0m",
      "\u001b[0;31mKeyboardInterrupt\u001b[0m                         Traceback (most recent call last)",
      "Cell \u001b[0;32mIn[10], line 8\u001b[0m\n\u001b[1;32m      5\u001b[0m bestScore\u001b[38;5;241m=\u001b[39m\u001b[38;5;241m1\u001b[39m\n\u001b[1;32m      7\u001b[0m \u001b[38;5;28;01mfor\u001b[39;00m epoch \u001b[38;5;129;01min\u001b[39;00m \u001b[38;5;28mrange\u001b[39m(num_epochs):\n\u001b[0;32m----> 8\u001b[0m     train_loss,train_acc \u001b[38;5;241m=\u001b[39m \u001b[43mtrain\u001b[49m\u001b[43m(\u001b[49m\u001b[43mmodel\u001b[49m\u001b[43m,\u001b[49m\u001b[43m \u001b[49m\u001b[43mtrain_dataloader\u001b[49m\u001b[43m,\u001b[49m\u001b[43mdice_loss\u001b[49m\u001b[43m,\u001b[49m\u001b[43m \u001b[49m\u001b[43moptimizer\u001b[49m\u001b[43m,\u001b[49m\u001b[43m \u001b[49m\u001b[43mdevice\u001b[49m\u001b[43m,\u001b[49m\u001b[43m \u001b[49m\u001b[43mldl\u001b[49m\u001b[43m,\u001b[49m\u001b[43m \u001b[49m\u001b[43mldl\u001b[49m\u001b[38;5;241;43m*\u001b[39;49m\u001b[38;5;241;43m4\u001b[39;49m\u001b[43m)\u001b[49m\n\u001b[1;32m      9\u001b[0m     Current_loss,val_acc \u001b[38;5;241m=\u001b[39m compute_accuracy(val_dataloader,dice_loss, model,device)\n\u001b[1;32m     10\u001b[0m     \u001b[38;5;66;03m#print(Current_loss)\u001b[39;00m\n\u001b[1;32m     11\u001b[0m     \u001b[38;5;66;03m#print(CurrentScore)\u001b[39;00m\n",
      "Cell \u001b[0;32mIn[8], line 87\u001b[0m, in \u001b[0;36mtrain\u001b[0;34m(model, dataloader, loss_fn, optimizer, device, ldl, lts)\u001b[0m\n\u001b[1;32m     84\u001b[0m total_loss \u001b[38;5;241m=\u001b[39m \u001b[38;5;241m0\u001b[39m\n\u001b[1;32m     85\u001b[0m train_accuracy \u001b[38;5;241m=\u001b[39m \u001b[38;5;241m0\u001b[39m \n\u001b[0;32m---> 87\u001b[0m \u001b[43m\u001b[49m\u001b[38;5;28;43;01mfor\u001b[39;49;00m\u001b[43m \u001b[49m\u001b[43mbatch\u001b[49m\u001b[43m \u001b[49m\u001b[38;5;129;43;01min\u001b[39;49;00m\u001b[43m \u001b[49m\u001b[43mtqdm\u001b[49m\u001b[43m(\u001b[49m\u001b[43mdataloader\u001b[49m\u001b[43m)\u001b[49m\u001b[43m:\u001b[49m\n\u001b[1;32m     88\u001b[0m \u001b[43m    \u001b[49m\u001b[43minputs\u001b[49m\u001b[43m,\u001b[49m\u001b[43m \u001b[49m\u001b[43mlabels\u001b[49m\u001b[43m \u001b[49m\u001b[38;5;241;43m=\u001b[39;49m\u001b[43m \u001b[49m\u001b[43mbatch\u001b[49m\u001b[43m[\u001b[49m\u001b[38;5;241;43m0\u001b[39;49m\u001b[43m]\u001b[49m\u001b[38;5;241;43m.\u001b[39;49m\u001b[43mto\u001b[49m\u001b[43m(\u001b[49m\u001b[43mdevice\u001b[49m\u001b[43m)\u001b[49m\u001b[43m,\u001b[49m\u001b[43m \u001b[49m\u001b[43mbatch\u001b[49m\u001b[43m[\u001b[49m\u001b[38;5;241;43m1\u001b[39;49m\u001b[43m]\u001b[49m\u001b[38;5;241;43m.\u001b[39;49m\u001b[43mto\u001b[49m\u001b[43m(\u001b[49m\u001b[43mdevice\u001b[49m\u001b[43m)\u001b[49m\n\u001b[1;32m     89\u001b[0m \u001b[43m    \u001b[49m\u001b[38;5;66;43;03m# print(inputs.shape)\u001b[39;49;00m\n\u001b[1;32m     90\u001b[0m \u001b[43m    \u001b[49m\u001b[38;5;66;43;03m# print(outputs.shape)\u001b[39;49;00m\n",
      "File \u001b[0;32m/opt/conda/envs/dml/lib/python3.11/site-packages/tqdm/notebook.py:250\u001b[0m, in \u001b[0;36mtqdm_notebook.__iter__\u001b[0;34m(self)\u001b[0m\n\u001b[1;32m    248\u001b[0m \u001b[38;5;28;01mtry\u001b[39;00m:\n\u001b[1;32m    249\u001b[0m     it \u001b[38;5;241m=\u001b[39m \u001b[38;5;28msuper\u001b[39m()\u001b[38;5;241m.\u001b[39m\u001b[38;5;21m__iter__\u001b[39m()\n\u001b[0;32m--> 250\u001b[0m \u001b[43m    \u001b[49m\u001b[38;5;28;43;01mfor\u001b[39;49;00m\u001b[43m \u001b[49m\u001b[43mobj\u001b[49m\u001b[43m \u001b[49m\u001b[38;5;129;43;01min\u001b[39;49;00m\u001b[43m \u001b[49m\u001b[43mit\u001b[49m\u001b[43m:\u001b[49m\n\u001b[1;32m    251\u001b[0m \u001b[43m        \u001b[49m\u001b[38;5;66;43;03m# return super(tqdm...) will not catch exception\u001b[39;49;00m\n\u001b[1;32m    252\u001b[0m \u001b[43m        \u001b[49m\u001b[38;5;28;43;01myield\u001b[39;49;00m\u001b[43m \u001b[49m\u001b[43mobj\u001b[49m\n\u001b[1;32m    253\u001b[0m \u001b[38;5;66;03m# NB: except ... [ as ...] breaks IPython async KeyboardInterrupt\u001b[39;00m\n",
      "File \u001b[0;32m/opt/conda/envs/dml/lib/python3.11/site-packages/tqdm/std.py:1181\u001b[0m, in \u001b[0;36mtqdm.__iter__\u001b[0;34m(self)\u001b[0m\n\u001b[1;32m   1178\u001b[0m time \u001b[38;5;241m=\u001b[39m \u001b[38;5;28mself\u001b[39m\u001b[38;5;241m.\u001b[39m_time\n\u001b[1;32m   1180\u001b[0m \u001b[38;5;28;01mtry\u001b[39;00m:\n\u001b[0;32m-> 1181\u001b[0m \u001b[43m    \u001b[49m\u001b[38;5;28;43;01mfor\u001b[39;49;00m\u001b[43m \u001b[49m\u001b[43mobj\u001b[49m\u001b[43m \u001b[49m\u001b[38;5;129;43;01min\u001b[39;49;00m\u001b[43m \u001b[49m\u001b[43miterable\u001b[49m\u001b[43m:\u001b[49m\n\u001b[1;32m   1182\u001b[0m \u001b[43m        \u001b[49m\u001b[38;5;28;43;01myield\u001b[39;49;00m\u001b[43m \u001b[49m\u001b[43mobj\u001b[49m\n\u001b[1;32m   1183\u001b[0m \u001b[43m        \u001b[49m\u001b[38;5;66;43;03m# Update and possibly print the progressbar.\u001b[39;49;00m\n\u001b[1;32m   1184\u001b[0m \u001b[43m        \u001b[49m\u001b[38;5;66;43;03m# Note: does not call self.update(1) for speed optimisation.\u001b[39;49;00m\n",
      "File \u001b[0;32m/opt/conda/envs/dml/lib/python3.11/site-packages/torch/utils/data/dataloader.py:630\u001b[0m, in \u001b[0;36m_BaseDataLoaderIter.__next__\u001b[0;34m(self)\u001b[0m\n\u001b[1;32m    627\u001b[0m \u001b[38;5;28;01mif\u001b[39;00m \u001b[38;5;28mself\u001b[39m\u001b[38;5;241m.\u001b[39m_sampler_iter \u001b[38;5;129;01mis\u001b[39;00m \u001b[38;5;28;01mNone\u001b[39;00m:\n\u001b[1;32m    628\u001b[0m     \u001b[38;5;66;03m# TODO(https://github.com/pytorch/pytorch/issues/76750)\u001b[39;00m\n\u001b[1;32m    629\u001b[0m     \u001b[38;5;28mself\u001b[39m\u001b[38;5;241m.\u001b[39m_reset()  \u001b[38;5;66;03m# type: ignore[call-arg]\u001b[39;00m\n\u001b[0;32m--> 630\u001b[0m data \u001b[38;5;241m=\u001b[39m \u001b[38;5;28;43mself\u001b[39;49m\u001b[38;5;241;43m.\u001b[39;49m\u001b[43m_next_data\u001b[49m\u001b[43m(\u001b[49m\u001b[43m)\u001b[49m\n\u001b[1;32m    631\u001b[0m \u001b[38;5;28mself\u001b[39m\u001b[38;5;241m.\u001b[39m_num_yielded \u001b[38;5;241m+\u001b[39m\u001b[38;5;241m=\u001b[39m \u001b[38;5;241m1\u001b[39m\n\u001b[1;32m    632\u001b[0m \u001b[38;5;28;01mif\u001b[39;00m \u001b[38;5;28mself\u001b[39m\u001b[38;5;241m.\u001b[39m_dataset_kind \u001b[38;5;241m==\u001b[39m _DatasetKind\u001b[38;5;241m.\u001b[39mIterable \u001b[38;5;129;01mand\u001b[39;00m \\\n\u001b[1;32m    633\u001b[0m         \u001b[38;5;28mself\u001b[39m\u001b[38;5;241m.\u001b[39m_IterableDataset_len_called \u001b[38;5;129;01mis\u001b[39;00m \u001b[38;5;129;01mnot\u001b[39;00m \u001b[38;5;28;01mNone\u001b[39;00m \u001b[38;5;129;01mand\u001b[39;00m \\\n\u001b[1;32m    634\u001b[0m         \u001b[38;5;28mself\u001b[39m\u001b[38;5;241m.\u001b[39m_num_yielded \u001b[38;5;241m>\u001b[39m \u001b[38;5;28mself\u001b[39m\u001b[38;5;241m.\u001b[39m_IterableDataset_len_called:\n",
      "File \u001b[0;32m/opt/conda/envs/dml/lib/python3.11/site-packages/torch/utils/data/dataloader.py:1327\u001b[0m, in \u001b[0;36m_MultiProcessingDataLoaderIter._next_data\u001b[0;34m(self)\u001b[0m\n\u001b[1;32m   1324\u001b[0m     \u001b[38;5;28;01mreturn\u001b[39;00m \u001b[38;5;28mself\u001b[39m\u001b[38;5;241m.\u001b[39m_process_data(data)\n\u001b[1;32m   1326\u001b[0m \u001b[38;5;28;01massert\u001b[39;00m \u001b[38;5;129;01mnot\u001b[39;00m \u001b[38;5;28mself\u001b[39m\u001b[38;5;241m.\u001b[39m_shutdown \u001b[38;5;129;01mand\u001b[39;00m \u001b[38;5;28mself\u001b[39m\u001b[38;5;241m.\u001b[39m_tasks_outstanding \u001b[38;5;241m>\u001b[39m \u001b[38;5;241m0\u001b[39m\n\u001b[0;32m-> 1327\u001b[0m idx, data \u001b[38;5;241m=\u001b[39m \u001b[38;5;28;43mself\u001b[39;49m\u001b[38;5;241;43m.\u001b[39;49m\u001b[43m_get_data\u001b[49m\u001b[43m(\u001b[49m\u001b[43m)\u001b[49m\n\u001b[1;32m   1328\u001b[0m \u001b[38;5;28mself\u001b[39m\u001b[38;5;241m.\u001b[39m_tasks_outstanding \u001b[38;5;241m-\u001b[39m\u001b[38;5;241m=\u001b[39m \u001b[38;5;241m1\u001b[39m\n\u001b[1;32m   1329\u001b[0m \u001b[38;5;28;01mif\u001b[39;00m \u001b[38;5;28mself\u001b[39m\u001b[38;5;241m.\u001b[39m_dataset_kind \u001b[38;5;241m==\u001b[39m _DatasetKind\u001b[38;5;241m.\u001b[39mIterable:\n\u001b[1;32m   1330\u001b[0m     \u001b[38;5;66;03m# Check for _IterableDatasetStopIteration\u001b[39;00m\n",
      "File \u001b[0;32m/opt/conda/envs/dml/lib/python3.11/site-packages/torch/utils/data/dataloader.py:1293\u001b[0m, in \u001b[0;36m_MultiProcessingDataLoaderIter._get_data\u001b[0;34m(self)\u001b[0m\n\u001b[1;32m   1289\u001b[0m     \u001b[38;5;66;03m# In this case, `self._data_queue` is a `queue.Queue`,. But we don't\u001b[39;00m\n\u001b[1;32m   1290\u001b[0m     \u001b[38;5;66;03m# need to call `.task_done()` because we don't use `.join()`.\u001b[39;00m\n\u001b[1;32m   1291\u001b[0m \u001b[38;5;28;01melse\u001b[39;00m:\n\u001b[1;32m   1292\u001b[0m     \u001b[38;5;28;01mwhile\u001b[39;00m \u001b[38;5;28;01mTrue\u001b[39;00m:\n\u001b[0;32m-> 1293\u001b[0m         success, data \u001b[38;5;241m=\u001b[39m \u001b[38;5;28;43mself\u001b[39;49m\u001b[38;5;241;43m.\u001b[39;49m\u001b[43m_try_get_data\u001b[49m\u001b[43m(\u001b[49m\u001b[43m)\u001b[49m\n\u001b[1;32m   1294\u001b[0m         \u001b[38;5;28;01mif\u001b[39;00m success:\n\u001b[1;32m   1295\u001b[0m             \u001b[38;5;28;01mreturn\u001b[39;00m data\n",
      "File \u001b[0;32m/opt/conda/envs/dml/lib/python3.11/site-packages/torch/utils/data/dataloader.py:1131\u001b[0m, in \u001b[0;36m_MultiProcessingDataLoaderIter._try_get_data\u001b[0;34m(self, timeout)\u001b[0m\n\u001b[1;32m   1118\u001b[0m \u001b[38;5;28;01mdef\u001b[39;00m \u001b[38;5;21m_try_get_data\u001b[39m(\u001b[38;5;28mself\u001b[39m, timeout\u001b[38;5;241m=\u001b[39m_utils\u001b[38;5;241m.\u001b[39mMP_STATUS_CHECK_INTERVAL):\n\u001b[1;32m   1119\u001b[0m     \u001b[38;5;66;03m# Tries to fetch data from `self._data_queue` once for a given timeout.\u001b[39;00m\n\u001b[1;32m   1120\u001b[0m     \u001b[38;5;66;03m# This can also be used as inner loop of fetching without timeout, with\u001b[39;00m\n\u001b[0;32m   (...)\u001b[0m\n\u001b[1;32m   1128\u001b[0m     \u001b[38;5;66;03m# Returns a 2-tuple:\u001b[39;00m\n\u001b[1;32m   1129\u001b[0m     \u001b[38;5;66;03m#   (bool: whether successfully get data, any: data if successful else None)\u001b[39;00m\n\u001b[1;32m   1130\u001b[0m     \u001b[38;5;28;01mtry\u001b[39;00m:\n\u001b[0;32m-> 1131\u001b[0m         data \u001b[38;5;241m=\u001b[39m \u001b[38;5;28;43mself\u001b[39;49m\u001b[38;5;241;43m.\u001b[39;49m\u001b[43m_data_queue\u001b[49m\u001b[38;5;241;43m.\u001b[39;49m\u001b[43mget\u001b[49m\u001b[43m(\u001b[49m\u001b[43mtimeout\u001b[49m\u001b[38;5;241;43m=\u001b[39;49m\u001b[43mtimeout\u001b[49m\u001b[43m)\u001b[49m\n\u001b[1;32m   1132\u001b[0m         \u001b[38;5;28;01mreturn\u001b[39;00m (\u001b[38;5;28;01mTrue\u001b[39;00m, data)\n\u001b[1;32m   1133\u001b[0m     \u001b[38;5;28;01mexcept\u001b[39;00m \u001b[38;5;167;01mException\u001b[39;00m \u001b[38;5;28;01mas\u001b[39;00m e:\n\u001b[1;32m   1134\u001b[0m         \u001b[38;5;66;03m# At timeout and error, we manually check whether any worker has\u001b[39;00m\n\u001b[1;32m   1135\u001b[0m         \u001b[38;5;66;03m# failed. Note that this is the only mechanism for Windows to detect\u001b[39;00m\n\u001b[1;32m   1136\u001b[0m         \u001b[38;5;66;03m# worker failures.\u001b[39;00m\n",
      "File \u001b[0;32m/opt/conda/envs/dml/lib/python3.11/multiprocessing/queues.py:113\u001b[0m, in \u001b[0;36mQueue.get\u001b[0;34m(self, block, timeout)\u001b[0m\n\u001b[1;32m    111\u001b[0m \u001b[38;5;28;01mif\u001b[39;00m block:\n\u001b[1;32m    112\u001b[0m     timeout \u001b[38;5;241m=\u001b[39m deadline \u001b[38;5;241m-\u001b[39m time\u001b[38;5;241m.\u001b[39mmonotonic()\n\u001b[0;32m--> 113\u001b[0m     \u001b[38;5;28;01mif\u001b[39;00m \u001b[38;5;129;01mnot\u001b[39;00m \u001b[38;5;28;43mself\u001b[39;49m\u001b[38;5;241;43m.\u001b[39;49m\u001b[43m_poll\u001b[49m\u001b[43m(\u001b[49m\u001b[43mtimeout\u001b[49m\u001b[43m)\u001b[49m:\n\u001b[1;32m    114\u001b[0m         \u001b[38;5;28;01mraise\u001b[39;00m Empty\n\u001b[1;32m    115\u001b[0m \u001b[38;5;28;01melif\u001b[39;00m \u001b[38;5;129;01mnot\u001b[39;00m \u001b[38;5;28mself\u001b[39m\u001b[38;5;241m.\u001b[39m_poll():\n",
      "File \u001b[0;32m/opt/conda/envs/dml/lib/python3.11/multiprocessing/connection.py:257\u001b[0m, in \u001b[0;36m_ConnectionBase.poll\u001b[0;34m(self, timeout)\u001b[0m\n\u001b[1;32m    255\u001b[0m \u001b[38;5;28mself\u001b[39m\u001b[38;5;241m.\u001b[39m_check_closed()\n\u001b[1;32m    256\u001b[0m \u001b[38;5;28mself\u001b[39m\u001b[38;5;241m.\u001b[39m_check_readable()\n\u001b[0;32m--> 257\u001b[0m \u001b[38;5;28;01mreturn\u001b[39;00m \u001b[38;5;28;43mself\u001b[39;49m\u001b[38;5;241;43m.\u001b[39;49m\u001b[43m_poll\u001b[49m\u001b[43m(\u001b[49m\u001b[43mtimeout\u001b[49m\u001b[43m)\u001b[49m\n",
      "File \u001b[0;32m/opt/conda/envs/dml/lib/python3.11/multiprocessing/connection.py:440\u001b[0m, in \u001b[0;36mConnection._poll\u001b[0;34m(self, timeout)\u001b[0m\n\u001b[1;32m    439\u001b[0m \u001b[38;5;28;01mdef\u001b[39;00m \u001b[38;5;21m_poll\u001b[39m(\u001b[38;5;28mself\u001b[39m, timeout):\n\u001b[0;32m--> 440\u001b[0m     r \u001b[38;5;241m=\u001b[39m \u001b[43mwait\u001b[49m\u001b[43m(\u001b[49m\u001b[43m[\u001b[49m\u001b[38;5;28;43mself\u001b[39;49m\u001b[43m]\u001b[49m\u001b[43m,\u001b[49m\u001b[43m \u001b[49m\u001b[43mtimeout\u001b[49m\u001b[43m)\u001b[49m\n\u001b[1;32m    441\u001b[0m     \u001b[38;5;28;01mreturn\u001b[39;00m \u001b[38;5;28mbool\u001b[39m(r)\n",
      "File \u001b[0;32m/opt/conda/envs/dml/lib/python3.11/multiprocessing/connection.py:948\u001b[0m, in \u001b[0;36mwait\u001b[0;34m(object_list, timeout)\u001b[0m\n\u001b[1;32m    945\u001b[0m     deadline \u001b[38;5;241m=\u001b[39m time\u001b[38;5;241m.\u001b[39mmonotonic() \u001b[38;5;241m+\u001b[39m timeout\n\u001b[1;32m    947\u001b[0m \u001b[38;5;28;01mwhile\u001b[39;00m \u001b[38;5;28;01mTrue\u001b[39;00m:\n\u001b[0;32m--> 948\u001b[0m     ready \u001b[38;5;241m=\u001b[39m \u001b[43mselector\u001b[49m\u001b[38;5;241;43m.\u001b[39;49m\u001b[43mselect\u001b[49m\u001b[43m(\u001b[49m\u001b[43mtimeout\u001b[49m\u001b[43m)\u001b[49m\n\u001b[1;32m    949\u001b[0m     \u001b[38;5;28;01mif\u001b[39;00m ready:\n\u001b[1;32m    950\u001b[0m         \u001b[38;5;28;01mreturn\u001b[39;00m [key\u001b[38;5;241m.\u001b[39mfileobj \u001b[38;5;28;01mfor\u001b[39;00m (key, events) \u001b[38;5;129;01min\u001b[39;00m ready]\n",
      "File \u001b[0;32m/opt/conda/envs/dml/lib/python3.11/selectors.py:415\u001b[0m, in \u001b[0;36m_PollLikeSelector.select\u001b[0;34m(self, timeout)\u001b[0m\n\u001b[1;32m    413\u001b[0m ready \u001b[38;5;241m=\u001b[39m []\n\u001b[1;32m    414\u001b[0m \u001b[38;5;28;01mtry\u001b[39;00m:\n\u001b[0;32m--> 415\u001b[0m     fd_event_list \u001b[38;5;241m=\u001b[39m \u001b[38;5;28mself\u001b[39m\u001b[38;5;241m.\u001b[39m_selector\u001b[38;5;241m.\u001b[39mpoll(timeout)\n\u001b[1;32m    416\u001b[0m \u001b[38;5;28;01mexcept\u001b[39;00m \u001b[38;5;167;01mInterruptedError\u001b[39;00m:\n\u001b[1;32m    417\u001b[0m     \u001b[38;5;28;01mreturn\u001b[39;00m ready\n",
      "\u001b[0;31mKeyboardInterrupt\u001b[0m: "
     ]
    }
   ],
   "source": [
    "\n",
    "train_losses = []\n",
    "cross_losses = []\n",
    "train_acces=[]\n",
    "val_acces=[]\n",
    "bestScore=1\n",
    "\n",
    "for epoch in range(num_epochs):\n",
    "    train_loss,train_acc = train(model, train_dataloader,dice_loss, optimizer, device, ldl, ldl*4)\n",
    "    Current_loss,val_acc = compute_accuracy(val_dataloader,dice_loss, model,device)\n",
    "    #print(Current_loss)\n",
    "    #print(CurrentScore)\n",
    "    train_losses.append(train_loss)\n",
    "    cross_losses.append(Current_loss)\n",
    "    train_acces.append(train_acc)\n",
    "    val_acces.append(val_acc)\n",
    "\n",
    "    print(f'Epoch {epoch+1}/{num_epochs}, Train Loss: {train_loss:.4f}')\n",
    "    print(f'Cross Acc: {Current_loss:.4f}')\n",
    "    print(f'train Acc: {train_acc:.4f}')\n",
    "    print(f'val Acc: {val_acc:.4f}')\n",
    "\n",
    "    #scheduler.step()\n",
    "\n",
    "    # initialize 3 subplots to plot the loss curve, learning rate curve and accuracy curve\n",
    "\n",
    "    \n",
    "    \n",
    "    if Current_loss < bestScore:\n",
    "        bestScore = Current_loss\n",
    "        best_epoch = epoch\n",
    "        torch.save(model.state_dict(), 'best_model.pt')\n",
    "\n"
   ]
  },
  {
   "cell_type": "code",
   "execution_count": 11,
   "metadata": {},
   "outputs": [
    {
     "data": {
      "image/png": "[encoded data removed]",
      "text/plain": [
       "<Figure size 1000x500 with 1 Axes>"
      ]
     },
     "metadata": {},
     "output_type": "display_data"
    }
   ],
   "source": [
    "plt.figure(figsize=(10, 5))\n",
    "plt.plot(train_losses, label='Training Loss')\n",
    "plt.plot(cross_losses, label='Validation Loss')\n",
    "plt.title('Training Loss and Validation Loss')\n",
    "plt.legend()\n",
    "plt.show(block=False)\n"
   ]
  },
  {
   "cell_type": "code",
   "execution_count": 12,
   "metadata": {},
   "outputs": [
    {
     "data": {
      "image/png": "[encoded data removed]",
      "text/plain": [
       "<Figure size 1000x500 with 1 Axes>"
      ]
     },
     "metadata": {},
     "output_type": "display_data"
    }
   ],
   "source": [
    "plt.figure(figsize=(10, 5))\n",
    "plt.plot(train_acces, label='Training acc')\n",
    "plt.plot(val_acces, label='Validation acc')\n",
    "plt.title('Training acc and Validation acc')\n",
    "plt.legend()\n",
    "plt.show(block=False)"
   ]
  },
  {
   "cell_type": "code",
   "execution_count": 9,
   "metadata": {},
   "outputs": [
    {
     "name": "stderr",
     "output_type": "stream",
     "text": [
      "/var/tmp/ipykernel_4760/1505365378.py:2: FutureWarning: You are using `torch.load` with `weights_only=False` (the current default value), which uses the default pickle module implicitly. It is possible to construct malicious pickle data which will execute arbitrary code during unpickling (See https://github.com/pytorch/pytorch/blob/main/SECURITY.md#untrusted-models for more details). In a future release, the default value for `weights_only` will be flipped to `True`. This limits the functions that could be executed during unpickling. Arbitrary objects will no longer be allowed to be loaded via this mode unless they are explicitly allowlisted by the user via `torch.serialization.add_safe_globals`. We recommend you start setting `weights_only=True` for any use case where you don't have full control of the loaded file. Please open an issue on GitHub for any issues related to this experimental feature.\n",
      "  model.load_state_dict(torch.load('best_model.pt', map_location=device))\n"
     ]
    },
    {
     "ename": "RuntimeError",
     "evalue": "Error(s) in loading state_dict for ImageSegmentation:\n\tMissing key(s) in state_dict: \"bn_input.weight\", \"bn_input.bias\", \"bn_input.running_mean\", \"bn_input.running_var\", \"dc1.seq.0.weight\", \"dc1.seq.0.bias\", \"dc1.seq.1.weight\", \"dc1.seq.1.bias\", \"dc1.seq.1.running_mean\", \"dc1.seq.1.running_var\", \"dc1.seq.3.weight\", \"dc1.seq.3.bias\", \"dc1.seq.4.weight\", \"dc1.seq.4.bias\", \"dc1.seq.4.running_mean\", \"dc1.seq.4.running_var\", \"dc5.seq.0.weight\", \"dc5.seq.0.bias\", \"dc5.seq.1.weight\", \"dc5.seq.1.bias\", \"dc5.seq.1.running_mean\", \"dc5.seq.1.running_var\", \"dc5.seq.3.weight\", \"dc5.seq.3.bias\", \"dc5.seq.4.weight\", \"dc5.seq.4.bias\", \"dc5.seq.4.running_mean\", \"dc5.seq.4.running_var\", \"dc5.seq.6.weight\", \"dc5.seq.6.bias\", \"dc5.seq.7.weight\", \"dc5.seq.7.bias\", \"dc5.seq.7.running_mean\", \"dc5.seq.7.running_var\", \"uc5.seq.0.weight\", \"uc5.seq.0.bias\", \"uc5.seq.1.weight\", \"uc5.seq.1.bias\", \"uc5.seq.1.running_mean\", \"uc5.seq.1.running_var\", \"uc5.seq.3.weight\", \"uc5.seq.3.bias\", \"uc5.seq.4.weight\", \"uc5.seq.4.bias\", \"uc5.seq.4.running_mean\", \"uc5.seq.4.running_var\", \"uc5.seq.6.weight\", \"uc5.seq.6.bias\", \"uc5.seq.7.weight\", \"uc5.seq.7.bias\", \"uc5.seq.7.running_mean\", \"uc5.seq.7.running_var\", \"uc1.seq.0.weight\", \"uc1.seq.0.bias\", \"uc1.seq.1.weight\", \"uc1.seq.1.bias\", \"uc1.seq.1.running_mean\", \"uc1.seq.1.running_var\", \"uc1.seq.3.weight\", \"uc1.seq.3.bias\", \"uc1.seq.4.weight\", \"uc1.seq.4.bias\", \"uc1.seq.4.running_mean\", \"uc1.seq.4.running_var\". \n\tUnexpected key(s) in state_dict: \"backbone.conv1.weight\", \"backbone.bn1.weight\", \"backbone.bn1.bias\", \"backbone.bn1.running_mean\", \"backbone.bn1.running_var\", \"backbone.bn1.num_batches_tracked\", \"backbone.layer1.0.conv1.weight\", \"backbone.layer1.0.bn1.weight\", \"backbone.layer1.0.bn1.bias\", \"backbone.layer1.0.bn1.running_mean\", \"backbone.layer1.0.bn1.running_var\", \"backbone.layer1.0.bn1.num_batches_tracked\", \"backbone.layer1.0.conv2.weight\", \"backbone.layer1.0.bn2.weight\", \"backbone.layer1.0.bn2.bias\", \"backbone.layer1.0.bn2.running_mean\", \"backbone.layer1.0.bn2.running_var\", \"backbone.layer1.0.bn2.num_batches_tracked\", \"backbone.layer1.0.conv3.weight\", \"backbone.layer1.0.bn3.weight\", \"backbone.layer1.0.bn3.bias\", \"backbone.layer1.0.bn3.running_mean\", \"backbone.layer1.0.bn3.running_var\", \"backbone.layer1.0.bn3.num_batches_tracked\", \"backbone.layer1.0.downsample.0.weight\", \"backbone.layer1.0.downsample.1.weight\", \"backbone.layer1.0.downsample.1.bias\", \"backbone.layer1.0.downsample.1.running_mean\", \"backbone.layer1.0.downsample.1.running_var\", \"backbone.layer1.0.downsample.1.num_batches_tracked\", \"backbone.layer1.1.conv1.weight\", \"backbone.layer1.1.bn1.weight\", \"backbone.layer1.1.bn1.bias\", \"backbone.layer1.1.bn1.running_mean\", \"backbone.layer1.1.bn1.running_var\", \"backbone.layer1.1.bn1.num_batches_tracked\", \"backbone.layer1.1.conv2.weight\", \"backbone.layer1.1.bn2.weight\", \"backbone.layer1.1.bn2.bias\", \"backbone.layer1.1.bn2.running_mean\", \"backbone.layer1.1.bn2.running_var\", \"backbone.layer1.1.bn2.num_batches_tracked\", \"backbone.layer1.1.conv3.weight\", \"backbone.layer1.1.bn3.weight\", \"backbone.layer1.1.bn3.bias\", \"backbone.layer1.1.bn3.running_mean\", \"backbone.layer1.1.bn3.running_var\", \"backbone.layer1.1.bn3.num_batches_tracked\", \"backbone.layer1.2.conv1.weight\", \"backbone.layer1.2.bn1.weight\", \"backbone.layer1.2.bn1.bias\", \"backbone.layer1.2.bn1.running_mean\", \"backbone.layer1.2.bn1.running_var\", \"backbone.layer1.2.bn1.num_batches_tracked\", \"backbone.layer1.2.conv2.weight\", \"backbone.layer1.2.bn2.weight\", \"backbone.layer1.2.bn2.bias\", \"backbone.layer1.2.bn2.running_mean\", \"backbone.layer1.2.bn2.running_var\", \"backbone.layer1.2.bn2.num_batches_tracked\", \"backbone.layer1.2.conv3.weight\", \"backbone.layer1.2.bn3.weight\", \"backbone.layer1.2.bn3.bias\", \"backbone.layer1.2.bn3.running_mean\", \"backbone.layer1.2.bn3.running_var\", \"backbone.layer1.2.bn3.num_batches_tracked\", \"backbone.layer2.0.conv1.weight\", \"backbone.layer2.0.bn1.weight\", \"backbone.layer2.0.bn1.bias\", \"backbone.layer2.0.bn1.running_mean\", \"backbone.layer2.0.bn1.running_var\", \"backbone.layer2.0.bn1.num_batches_tracked\", \"backbone.layer2.0.conv2.weight\", \"backbone.layer2.0.bn2.weight\", \"backbone.layer2.0.bn2.bias\", \"backbone.layer2.0.bn2.running_mean\", \"backbone.layer2.0.bn2.running_var\", \"backbone.layer2.0.bn2.num_batches_tracked\", \"backbone.layer2.0.conv3.weight\", \"backbone.layer2.0.bn3.weight\", \"backbone.layer2.0.bn3.bias\", \"backbone.layer2.0.bn3.running_mean\", \"backbone.layer2.0.bn3.running_var\", \"backbone.layer2.0.bn3.num_batches_tracked\", \"backbone.layer2.0.downsample.0.weight\", \"backbone.layer2.0.downsample.1.weight\", \"backbone.layer2.0.downsample.1.bias\", \"backbone.layer2.0.downsample.1.running_mean\", \"backbone.layer2.0.downsample.1.running_var\", \"backbone.layer2.0.downsample.1.num_batches_tracked\", \"backbone.layer2.1.conv1.weight\", \"backbone.layer2.1.bn1.weight\", \"backbone.layer2.1.bn1.bias\", \"backbone.layer2.1.bn1.running_mean\", \"backbone.layer2.1.bn1.running_var\", \"backbone.layer2.1.bn1.num_batches_tracked\", \"backbone.layer2.1.conv2.weight\", \"backbone.layer2.1.bn2.weight\", \"backbone.layer2.1.bn2.bias\", \"backbone.layer2.1.bn2.running_mean\", \"backbone.layer2.1.bn2.running_var\", \"backbone.layer2.1.bn2.num_batches_tracked\", \"backbone.layer2.1.conv3.weight\", \"backbone.layer2.1.bn3.weight\", \"backbone.layer2.1.bn3.bias\", \"backbone.layer2.1.bn3.running_mean\", \"backbone.layer2.1.bn3.running_var\", \"backbone.layer2.1.bn3.num_batches_tracked\", \"backbone.layer2.2.conv1.weight\", \"backbone.layer2.2.bn1.weight\", \"backbone.layer2.2.bn1.bias\", \"backbone.layer2.2.bn1.running_mean\", \"backbone.layer2.2.bn1.running_var\", \"backbone.layer2.2.bn1.num_batches_tracked\", \"backbone.layer2.2.conv2.weight\", \"backbone.layer2.2.bn2.weight\", \"backbone.layer2.2.bn2.bias\", \"backbone.layer2.2.bn2.running_mean\", \"backbone.layer2.2.bn2.running_var\", \"backbone.layer2.2.bn2.num_batches_tracked\", \"backbone.layer2.2.conv3.weight\", \"backbone.layer2.2.bn3.weight\", \"backbone.layer2.2.bn3.bias\", \"backbone.layer2.2.bn3.running_mean\", \"backbone.layer2.2.bn3.running_var\", \"backbone.layer2.2.bn3.num_batches_tracked\", \"backbone.layer2.3.conv1.weight\", \"backbone.layer2.3.bn1.weight\", \"backbone.layer2.3.bn1.bias\", \"backbone.layer2.3.bn1.running_mean\", \"backbone.layer2.3.bn1.running_var\", \"backbone.layer2.3.bn1.num_batches_tracked\", \"backbone.layer2.3.conv2.weight\", \"backbone.layer2.3.bn2.weight\", \"backbone.layer2.3.bn2.bias\", \"backbone.layer2.3.bn2.running_mean\", \"backbone.layer2.3.bn2.running_var\", \"backbone.layer2.3.bn2.num_batches_tracked\", \"backbone.layer2.3.conv3.weight\", \"backbone.layer2.3.bn3.weight\", \"backbone.layer2.3.bn3.bias\", \"backbone.layer2.3.bn3.running_mean\", \"backbone.layer2.3.bn3.running_var\", \"backbone.layer2.3.bn3.num_batches_tracked\", \"backbone.layer3.0.conv1.weight\", \"backbone.layer3.0.bn1.weight\", \"backbone.layer3.0.bn1.bias\", \"backbone.layer3.0.bn1.running_mean\", \"backbone.layer3.0.bn1.running_var\", \"backbone.layer3.0.bn1.num_batches_tracked\", \"backbone.layer3.0.conv2.weight\", \"backbone.layer3.0.bn2.weight\", \"backbone.layer3.0.bn2.bias\", \"backbone.layer3.0.bn2.running_mean\", \"backbone.layer3.0.bn2.running_var\", \"backbone.layer3.0.bn2.num_batches_tracked\", \"backbone.layer3.0.conv3.weight\", \"backbone.layer3.0.bn3.weight\", \"backbone.layer3.0.bn3.bias\", \"backbone.layer3.0.bn3.running_mean\", \"backbone.layer3.0.bn3.running_var\", \"backbone.layer3.0.bn3.num_batches_tracked\", \"backbone.layer3.0.downsample.0.weight\", \"backbone.layer3.0.downsample.1.weight\", \"backbone.layer3.0.downsample.1.bias\", \"backbone.layer3.0.downsample.1.running_mean\", \"backbone.layer3.0.downsample.1.running_var\", \"backbone.layer3.0.downsample.1.num_batches_tracked\", \"backbone.layer3.1.conv1.weight\", \"backbone.layer3.1.bn1.weight\", \"backbone.layer3.1.bn1.bias\", \"backbone.layer3.1.bn1.running_mean\", \"backbone.layer3.1.bn1.running_var\", \"backbone.layer3.1.bn1.num_batches_tracked\", \"backbone.layer3.1.conv2.weight\", \"backbone.layer3.1.bn2.weight\", \"backbone.layer3.1.bn2.bias\", \"backbone.layer3.1.bn2.running_mean\", \"backbone.layer3.1.bn2.running_var\", \"backbone.layer3.1.bn2.num_batches_tracked\", \"backbone.layer3.1.conv3.weight\", \"backbone.layer3.1.bn3.weight\", \"backbone.layer3.1.bn3.bias\", \"backbone.layer3.1.bn3.running_mean\", \"backbone.layer3.1.bn3.running_var\", \"backbone.layer3.1.bn3.num_batches_tracked\", \"backbone.layer3.2.conv1.weight\", \"backbone.layer3.2.bn1.weight\", \"backbone.layer3.2.bn1.bias\", \"backbone.layer3.2.bn1.running_mean\", \"backbone.layer3.2.bn1.running_var\", \"backbone.layer3.2.bn1.num_batches_tracked\", \"backbone.layer3.2.conv2.weight\", \"backbone.layer3.2.bn2.weight\", \"backbone.layer3.2.bn2.bias\", \"backbone.layer3.2.bn2.running_mean\", \"backbone.layer3.2.bn2.running_var\", \"backbone.layer3.2.bn2.num_batches_tracked\", \"backbone.layer3.2.conv3.weight\", \"backbone.layer3.2.bn3.weight\", \"backbone.layer3.2.bn3.bias\", \"backbone.layer3.2.bn3.running_mean\", \"backbone.layer3.2.bn3.running_var\", \"backbone.layer3.2.bn3.num_batches_tracked\", \"backbone.layer3.3.conv1.weight\", \"backbone.layer3.3.bn1.weight\", \"backbone.layer3.3.bn1.bias\", \"backbone.layer3.3.bn1.running_mean\", \"backbone.layer3.3.bn1.running_var\", \"backbone.layer3.3.bn1.num_batches_tracked\", \"backbone.layer3.3.conv2.weight\", \"backbone.layer3.3.bn2.weight\", \"backbone.layer3.3.bn2.bias\", \"backbone.layer3.3.bn2.running_mean\", \"backbone.layer3.3.bn2.running_var\", \"backbone.layer3.3.bn2.num_batches_tracked\", \"backbone.layer3.3.conv3.weight\", \"backbone.layer3.3.bn3.weight\", \"backbone.layer3.3.bn3.bias\", \"backbone.layer3.3.bn3.running_mean\", \"backbone.layer3.3.bn3.running_var\", \"backbone.layer3.3.bn3.num_batches_tracked\", \"backbone.layer3.4.conv1.weight\", \"backbone.layer3.4.bn1.weight\", \"backbone.layer3.4.bn1.bias\", \"backbone.layer3.4.bn1.running_mean\", \"backbone.layer3.4.bn1.running_var\", \"backbone.layer3.4.bn1.num_batches_tracked\", \"backbone.layer3.4.conv2.weight\", \"backbone.layer3.4.bn2.weight\", \"backbone.layer3.4.bn2.bias\", \"backbone.layer3.4.bn2.running_mean\", \"backbone.layer3.4.bn2.running_var\", \"backbone.layer3.4.bn2.num_batches_tracked\", \"backbone.layer3.4.conv3.weight\", \"backbone.layer3.4.bn3.weight\", \"backbone.layer3.4.bn3.bias\", \"backbone.layer3.4.bn3.running_mean\", \"backbone.layer3.4.bn3.running_var\", \"backbone.layer3.4.bn3.num_batches_tracked\", \"backbone.layer3.5.conv1.weight\", \"backbone.layer3.5.bn1.weight\", \"backbone.layer3.5.bn1.bias\", \"backbone.layer3.5.bn1.running_mean\", \"backbone.layer3.5.bn1.running_var\", \"backbone.layer3.5.bn1.num_batches_tracked\", \"backbone.layer3.5.conv2.weight\", \"backbone.layer3.5.bn2.weight\", \"backbone.layer3.5.bn2.bias\", \"backbone.layer3.5.bn2.running_mean\", \"backbone.layer3.5.bn2.running_var\", \"backbone.layer3.5.bn2.num_batches_tracked\", \"backbone.layer3.5.conv3.weight\", \"backbone.layer3.5.bn3.weight\", \"backbone.layer3.5.bn3.bias\", \"backbone.layer3.5.bn3.running_mean\", \"backbone.layer3.5.bn3.running_var\", \"backbone.layer3.5.bn3.num_batches_tracked\", \"backbone.layer3.6.conv1.weight\", \"backbone.layer3.6.bn1.weight\", \"backbone.layer3.6.bn1.bias\", \"backbone.layer3.6.bn1.running_mean\", \"backbone.layer3.6.bn1.running_var\", \"backbone.layer3.6.bn1.num_batches_tracked\", \"backbone.layer3.6.conv2.weight\", \"backbone.layer3.6.bn2.weight\", \"backbone.layer3.6.bn2.bias\", \"backbone.layer3.6.bn2.running_mean\", \"backbone.layer3.6.bn2.running_var\", \"backbone.layer3.6.bn2.num_batches_tracked\", \"backbone.layer3.6.conv3.weight\", \"backbone.layer3.6.bn3.weight\", \"backbone.layer3.6.bn3.bias\", \"backbone.layer3.6.bn3.running_mean\", \"backbone.layer3.6.bn3.running_var\", \"backbone.layer3.6.bn3.num_batches_tracked\", \"backbone.layer3.7.conv1.weight\", \"backbone.layer3.7.bn1.weight\", \"backbone.layer3.7.bn1.bias\", \"backbone.layer3.7.bn1.running_mean\", \"backbone.layer3.7.bn1.running_var\", \"backbone.layer3.7.bn1.num_batches_tracked\", \"backbone.layer3.7.conv2.weight\", \"backbone.layer3.7.bn2.weight\", \"backbone.layer3.7.bn2.bias\", \"backbone.layer3.7.bn2.running_mean\", \"backbone.layer3.7.bn2.running_var\", \"backbone.layer3.7.bn2.num_batches_tracked\", \"backbone.layer3.7.conv3.weight\", \"backbone.layer3.7.bn3.weight\", \"backbone.layer3.7.bn3.bias\", \"backbone.layer3.7.bn3.running_mean\", \"backbone.layer3.7.bn3.running_var\", \"backbone.layer3.7.bn3.num_batches_tracked\", \"backbone.layer3.8.conv1.weight\", \"backbone.layer3.8.bn1.weight\", \"backbone.layer3.8.bn1.bias\", \"backbone.layer3.8.bn1.running_mean\", \"backbone.layer3.8.bn1.running_var\", \"backbone.layer3.8.bn1.num_batches_tracked\", \"backbone.layer3.8.conv2.weight\", \"backbone.layer3.8.bn2.weight\", \"backbone.layer3.8.bn2.bias\", \"backbone.layer3.8.bn2.running_mean\", \"backbone.layer3.8.bn2.running_var\", \"backbone.layer3.8.bn2.num_batches_tracked\", \"backbone.layer3.8.conv3.weight\", \"backbone.layer3.8.bn3.weight\", \"backbone.layer3.8.bn3.bias\", \"backbone.layer3.8.bn3.running_mean\", \"backbone.layer3.8.bn3.running_var\", \"backbone.layer3.8.bn3.num_batches_tracked\", \"backbone.layer3.9.conv1.weight\", \"backbone.layer3.9.bn1.weight\", \"backbone.layer3.9.bn1.bias\", \"backbone.layer3.9.bn1.running_mean\", \"backbone.layer3.9.bn1.running_var\", \"backbone.layer3.9.bn1.num_batches_tracked\", \"backbone.layer3.9.conv2.weight\", \"backbone.layer3.9.bn2.weight\", \"backbone.layer3.9.bn2.bias\", \"backbone.layer3.9.bn2.running_mean\", \"backbone.layer3.9.bn2.running_var\", \"backbone.layer3.9.bn2.num_batches_tracked\", \"backbone.layer3.9.conv3.weight\", \"backbone.layer3.9.bn3.weight\", \"backbone.layer3.9.bn3.bias\", \"backbone.layer3.9.bn3.running_mean\", \"backbone.layer3.9.bn3.running_var\", \"backbone.layer3.9.bn3.num_batches_tracked\", \"backbone.layer3.10.conv1.weight\", \"backbone.layer3.10.bn1.weight\", \"backbone.layer3.10.bn1.bias\", \"backbone.layer3.10.bn1.running_mean\", \"backbone.layer3.10.bn1.running_var\", \"backbone.layer3.10.bn1.num_batches_tracked\", \"backbone.layer3.10.conv2.weight\", \"backbone.layer3.10.bn2.weight\", \"backbone.layer3.10.bn2.bias\", \"backbone.layer3.10.bn2.running_mean\", \"backbone.layer3.10.bn2.running_var\", \"backbone.layer3.10.bn2.num_batches_tracked\", \"backbone.layer3.10.conv3.weight\", \"backbone.layer3.10.bn3.weight\", \"backbone.layer3.10.bn3.bias\", \"backbone.layer3.10.bn3.running_mean\", \"backbone.layer3.10.bn3.running_var\", \"backbone.layer3.10.bn3.num_batches_tracked\", \"backbone.layer3.11.conv1.weight\", \"backbone.layer3.11.bn1.weight\", \"backbone.layer3.11.bn1.bias\", \"backbone.layer3.11.bn1.running_mean\", \"backbone.layer3.11.bn1.running_var\", \"backbone.layer3.11.bn1.num_batches_tracked\", \"backbone.layer3.11.conv2.weight\", \"backbone.layer3.11.bn2.weight\", \"backbone.layer3.11.bn2.bias\", \"backbone.layer3.11.bn2.running_mean\", \"backbone.layer3.11.bn2.running_var\", \"backbone.layer3.11.bn2.num_batches_tracked\", \"backbone.layer3.11.conv3.weight\", \"backbone.layer3.11.bn3.weight\", \"backbone.layer3.11.bn3.bias\", \"backbone.layer3.11.bn3.running_mean\", \"backbone.layer3.11.bn3.running_var\", \"backbone.layer3.11.bn3.num_batches_tracked\", \"backbone.layer3.12.conv1.weight\", \"backbone.layer3.12.bn1.weight\", \"backbone.layer3.12.bn1.bias\", \"backbone.layer3.12.bn1.running_mean\", \"backbone.layer3.12.bn1.running_var\", \"backbone.layer3.12.bn1.num_batches_tracked\", \"backbone.layer3.12.conv2.weight\", \"backbone.layer3.12.bn2.weight\", \"backbone.layer3.12.bn2.bias\", \"backbone.layer3.12.bn2.running_mean\", \"backbone.layer3.12.bn2.running_var\", \"backbone.layer3.12.bn2.num_batches_tracked\", \"backbone.layer3.12.conv3.weight\", \"backbone.layer3.12.bn3.weight\", \"backbone.layer3.12.bn3.bias\", \"backbone.layer3.12.bn3.running_mean\", \"backbone.layer3.12.bn3.running_var\", \"backbone.layer3.12.bn3.num_batches_tracked\", \"backbone.layer3.13.conv1.weight\", \"backbone.layer3.13.bn1.weight\", \"backbone.layer3.13.bn1.bias\", \"backbone.layer3.13.bn1.running_mean\", \"backbone.layer3.13.bn1.running_var\", \"backbone.layer3.13.bn1.num_batches_tracked\", \"backbone.layer3.13.conv2.weight\", \"backbone.layer3.13.bn2.weight\", \"backbone.layer3.13.bn2.bias\", \"backbone.layer3.13.bn2.running_mean\", \"backbone.layer3.13.bn2.running_var\", \"backbone.layer3.13.bn2.num_batches_tracked\", \"backbone.layer3.13.conv3.weight\", \"backbone.layer3.13.bn3.weight\", \"backbone.layer3.13.bn3.bias\", \"backbone.layer3.13.bn3.running_mean\", \"backbone.layer3.13.bn3.running_var\", \"backbone.layer3.13.bn3.num_batches_tracked\", \"backbone.layer3.14.conv1.weight\", \"backbone.layer3.14.bn1.weight\", \"backbone.layer3.14.bn1.bias\", \"backbone.layer3.14.bn1.running_mean\", \"backbone.layer3.14.bn1.running_var\", \"backbone.layer3.14.bn1.num_batches_tracked\", \"backbone.layer3.14.conv2.weight\", \"backbone.layer3.14.bn2.weight\", \"backbone.layer3.14.bn2.bias\", \"backbone.layer3.14.bn2.running_mean\", \"backbone.layer3.14.bn2.running_var\", \"backbone.layer3.14.bn2.num_batches_tracked\", \"backbone.layer3.14.conv3.weight\", \"backbone.layer3.14.bn3.weight\", \"backbone.layer3.14.bn3.bias\", \"backbone.layer3.14.bn3.running_mean\", \"backbone.layer3.14.bn3.running_var\", \"backbone.layer3.14.bn3.num_batches_tracked\", \"backbone.layer3.15.conv1.weight\", \"backbone.layer3.15.bn1.weight\", \"backbone.layer3.15.bn1.bias\", \"backbone.layer3.15.bn1.running_mean\", \"backbone.layer3.15.bn1.running_var\", \"backbone.layer3.15.bn1.num_batches_tracked\", \"backbone.layer3.15.conv2.weight\", \"backbone.layer3.15.bn2.weight\", \"backbone.layer3.15.bn2.bias\", \"backbone.layer3.15.bn2.running_mean\", \"backbone.layer3.15.bn2.running_var\", \"backbone.layer3.15.bn2.num_batches_tracked\", \"backbone.layer3.15.conv3.weight\", \"backbone.layer3.15.bn3.weight\", \"backbone.layer3.15.bn3.bias\", \"backbone.layer3.15.bn3.running_mean\", \"backbone.layer3.15.bn3.running_var\", \"backbone.layer3.15.bn3.num_batches_tracked\", \"backbone.layer3.16.conv1.weight\", \"backbone.layer3.16.bn1.weight\", \"backbone.layer3.16.bn1.bias\", \"backbone.layer3.16.bn1.running_mean\", \"backbone.layer3.16.bn1.running_var\", \"backbone.layer3.16.bn1.num_batches_tracked\", \"backbone.layer3.16.conv2.weight\", \"backbone.layer3.16.bn2.weight\", \"backbone.layer3.16.bn2.bias\", \"backbone.layer3.16.bn2.running_mean\", \"backbone.layer3.16.bn2.running_var\", \"backbone.layer3.16.bn2.num_batches_tracked\", \"backbone.layer3.16.conv3.weight\", \"backbone.layer3.16.bn3.weight\", \"backbone.layer3.16.bn3.bias\", \"backbone.layer3.16.bn3.running_mean\", \"backbone.layer3.16.bn3.running_var\", \"backbone.layer3.16.bn3.num_batches_tracked\", \"backbone.layer3.17.conv1.weight\", \"backbone.layer3.17.bn1.weight\", \"backbone.layer3.17.bn1.bias\", \"backbone.layer3.17.bn1.running_mean\", \"backbone.layer3.17.bn1.running_var\", \"backbone.layer3.17.bn1.num_batches_tracked\", \"backbone.layer3.17.conv2.weight\", \"backbone.layer3.17.bn2.weight\", \"backbone.layer3.17.bn2.bias\", \"backbone.layer3.17.bn2.running_mean\", \"backbone.layer3.17.bn2.running_var\", \"backbone.layer3.17.bn2.num_batches_tracked\", \"backbone.layer3.17.conv3.weight\", \"backbone.layer3.17.bn3.weight\", \"backbone.layer3.17.bn3.bias\", \"backbone.layer3.17.bn3.running_mean\", \"backbone.layer3.17.bn3.running_var\", \"backbone.layer3.17.bn3.num_batches_tracked\", \"backbone.layer3.18.conv1.weight\", \"backbone.layer3.18.bn1.weight\", \"backbone.layer3.18.bn1.bias\", \"backbone.layer3.18.bn1.running_mean\", \"backbone.layer3.18.bn1.running_var\", \"backbone.layer3.18.bn1.num_batches_tracked\", \"backbone.layer3.18.conv2.weight\", \"backbone.layer3.18.bn2.weight\", \"backbone.layer3.18.bn2.bias\", \"backbone.layer3.18.bn2.running_mean\", \"backbone.layer3.18.bn2.running_var\", \"backbone.layer3.18.bn2.num_batches_tracked\", \"backbone.layer3.18.conv3.weight\", \"backbone.layer3.18.bn3.weight\", \"backbone.layer3.18.bn3.bias\", \"backbone.layer3.18.bn3.running_mean\", \"backbone.layer3.18.bn3.running_var\", \"backbone.layer3.18.bn3.num_batches_tracked\", \"backbone.layer3.19.conv1.weight\", \"backbone.layer3.19.bn1.weight\", \"backbone.layer3.19.bn1.bias\", \"backbone.layer3.19.bn1.running_mean\", \"backbone.layer3.19.bn1.running_var\", \"backbone.layer3.19.bn1.num_batches_tracked\", \"backbone.layer3.19.conv2.weight\", \"backbone.layer3.19.bn2.weight\", \"backbone.layer3.19.bn2.bias\", \"backbone.layer3.19.bn2.running_mean\", \"backbone.layer3.19.bn2.running_var\", \"backbone.layer3.19.bn2.num_batches_tracked\", \"backbone.layer3.19.conv3.weight\", \"backbone.layer3.19.bn3.weight\", \"backbone.layer3.19.bn3.bias\", \"backbone.layer3.19.bn3.running_mean\", \"backbone.layer3.19.bn3.running_var\", \"backbone.layer3.19.bn3.num_batches_tracked\", \"backbone.layer3.20.conv1.weight\", \"backbone.layer3.20.bn1.weight\", \"backbone.layer3.20.bn1.bias\", \"backbone.layer3.20.bn1.running_mean\", \"backbone.layer3.20.bn1.running_var\", \"backbone.layer3.20.bn1.num_batches_tracked\", \"backbone.layer3.20.conv2.weight\", \"backbone.layer3.20.bn2.weight\", \"backbone.layer3.20.bn2.bias\", \"backbone.layer3.20.bn2.running_mean\", \"backbone.layer3.20.bn2.running_var\", \"backbone.layer3.20.bn2.num_batches_tracked\", \"backbone.layer3.20.conv3.weight\", \"backbone.layer3.20.bn3.weight\", \"backbone.layer3.20.bn3.bias\", \"backbone.layer3.20.bn3.running_mean\", \"backbone.layer3.20.bn3.running_var\", \"backbone.layer3.20.bn3.num_batches_tracked\", \"backbone.layer3.21.conv1.weight\", \"backbone.layer3.21.bn1.weight\", \"backbone.layer3.21.bn1.bias\", \"backbone.layer3.21.bn1.running_mean\", \"backbone.layer3.21.bn1.running_var\", \"backbone.layer3.21.bn1.num_batches_tracked\", \"backbone.layer3.21.conv2.weight\", \"backbone.layer3.21.bn2.weight\", \"backbone.layer3.21.bn2.bias\", \"backbone.layer3.21.bn2.running_mean\", \"backbone.layer3.21.bn2.running_var\", \"backbone.layer3.21.bn2.num_batches_tracked\", \"backbone.layer3.21.conv3.weight\", \"backbone.layer3.21.bn3.weight\", \"backbone.layer3.21.bn3.bias\", \"backbone.layer3.21.bn3.running_mean\", \"backbone.layer3.21.bn3.running_var\", \"backbone.layer3.21.bn3.num_batches_tracked\", \"backbone.layer3.22.conv1.weight\", \"backbone.layer3.22.bn1.weight\", \"backbone.layer3.22.bn1.bias\", \"backbone.layer3.22.bn1.running_mean\", \"backbone.layer3.22.bn1.running_var\", \"backbone.layer3.22.bn1.num_batches_tracked\", \"backbone.layer3.22.conv2.weight\", \"backbone.layer3.22.bn2.weight\", \"backbone.layer3.22.bn2.bias\", \"backbone.layer3.22.bn2.running_mean\", \"backbone.layer3.22.bn2.running_var\", \"backbone.layer3.22.bn2.num_batches_tracked\", \"backbone.layer3.22.conv3.weight\", \"backbone.layer3.22.bn3.weight\", \"backbone.layer3.22.bn3.bias\", \"backbone.layer3.22.bn3.running_mean\", \"backbone.layer3.22.bn3.running_var\", \"backbone.layer3.22.bn3.num_batches_tracked\", \"backbone.layer4.0.conv1.weight\", \"backbone.layer4.0.bn1.weight\", \"backbone.layer4.0.bn1.bias\", \"backbone.layer4.0.bn1.running_mean\", \"backbone.layer4.0.bn1.running_var\", \"backbone.layer4.0.bn1.num_batches_tracked\", \"backbone.layer4.0.conv2.weight\", \"backbone.layer4.0.bn2.weight\", \"backbone.layer4.0.bn2.bias\", \"backbone.layer4.0.bn2.running_mean\", \"backbone.layer4.0.bn2.running_var\", \"backbone.layer4.0.bn2.num_batches_tracked\", \"backbone.layer4.0.conv3.weight\", \"backbone.layer4.0.bn3.weight\", \"backbone.layer4.0.bn3.bias\", \"backbone.layer4.0.bn3.running_mean\", \"backbone.layer4.0.bn3.running_var\", \"backbone.layer4.0.bn3.num_batches_tracked\", \"backbone.layer4.0.downsample.0.weight\", \"backbone.layer4.0.downsample.1.weight\", \"backbone.layer4.0.downsample.1.bias\", \"backbone.layer4.0.downsample.1.running_mean\", \"backbone.layer4.0.downsample.1.running_var\", \"backbone.layer4.0.downsample.1.num_batches_tracked\", \"backbone.layer4.1.conv1.weight\", \"backbone.layer4.1.bn1.weight\", \"backbone.layer4.1.bn1.bias\", \"backbone.layer4.1.bn1.running_mean\", \"backbone.layer4.1.bn1.running_var\", \"backbone.layer4.1.bn1.num_batches_tracked\", \"backbone.layer4.1.conv2.weight\", \"backbone.layer4.1.bn2.weight\", \"backbone.layer4.1.bn2.bias\", \"backbone.layer4.1.bn2.running_mean\", \"backbone.layer4.1.bn2.running_var\", \"backbone.layer4.1.bn2.num_batches_tracked\", \"backbone.layer4.1.conv3.weight\", \"backbone.layer4.1.bn3.weight\", \"backbone.layer4.1.bn3.bias\", \"backbone.layer4.1.bn3.running_mean\", \"backbone.layer4.1.bn3.running_var\", \"backbone.layer4.1.bn3.num_batches_tracked\", \"backbone.layer4.2.conv1.weight\", \"backbone.layer4.2.bn1.weight\", \"backbone.layer4.2.bn1.bias\", \"backbone.layer4.2.bn1.running_mean\", \"backbone.layer4.2.bn1.running_var\", \"backbone.layer4.2.bn1.num_batches_tracked\", \"backbone.layer4.2.conv2.weight\", \"backbone.layer4.2.bn2.weight\", \"backbone.layer4.2.bn2.bias\", \"backbone.layer4.2.bn2.running_mean\", \"backbone.layer4.2.bn2.running_var\", \"backbone.layer4.2.bn2.num_batches_tracked\", \"backbone.layer4.2.conv3.weight\", \"backbone.layer4.2.bn3.weight\", \"backbone.layer4.2.bn3.bias\", \"backbone.layer4.2.bn3.running_mean\", \"backbone.layer4.2.bn3.running_var\", \"backbone.layer4.2.bn3.num_batches_tracked\", \"classifier.0.convs.0.0.weight\", \"classifier.0.convs.0.1.weight\", \"classifier.0.convs.0.1.bias\", \"classifier.0.convs.0.1.running_mean\", \"classifier.0.convs.0.1.running_var\", \"classifier.0.convs.0.1.num_batches_tracked\", \"classifier.0.convs.1.0.weight\", \"classifier.0.convs.1.1.weight\", \"classifier.0.convs.1.1.bias\", \"classifier.0.convs.1.1.running_mean\", \"classifier.0.convs.1.1.running_var\", \"classifier.0.convs.1.1.num_batches_tracked\", \"classifier.0.convs.2.0.weight\", \"classifier.0.convs.2.1.weight\", \"classifier.0.convs.2.1.bias\", \"classifier.0.convs.2.1.running_mean\", \"classifier.0.convs.2.1.running_var\", \"classifier.0.convs.2.1.num_batches_tracked\", \"classifier.0.convs.3.0.weight\", \"classifier.0.convs.3.1.weight\", \"classifier.0.convs.3.1.bias\", \"classifier.0.convs.3.1.running_mean\", \"classifier.0.convs.3.1.running_var\", \"classifier.0.convs.3.1.num_batches_tracked\", \"classifier.0.convs.4.1.weight\", \"classifier.0.convs.4.2.weight\", \"classifier.0.convs.4.2.bias\", \"classifier.0.convs.4.2.running_mean\", \"classifier.0.convs.4.2.running_var\", \"classifier.0.convs.4.2.num_batches_tracked\", \"classifier.0.project.0.weight\", \"classifier.0.project.1.weight\", \"classifier.0.project.1.bias\", \"classifier.0.project.1.running_mean\", \"classifier.0.project.1.running_var\", \"classifier.0.project.1.num_batches_tracked\", \"classifier.1.weight\", \"classifier.2.weight\", \"classifier.2.bias\", \"classifier.2.running_mean\", \"classifier.2.running_var\", \"classifier.2.num_batches_tracked\", \"classifier.4.weight\", \"classifier.4.bias\". ",
     "output_type": "error",
     "traceback": [
      "\u001b[0;31m---------------------------------------------------------------------------\u001b[0m",
      "\u001b[0;31mRuntimeError\u001b[0m                              Traceback (most recent call last)",
      "Cell \u001b[0;32mIn[9], line 2\u001b[0m\n\u001b[1;32m      1\u001b[0m model \u001b[38;5;241m=\u001b[39m ImageSegmentation(\u001b[38;5;241m3\u001b[39m)\n\u001b[0;32m----> 2\u001b[0m \u001b[43mmodel\u001b[49m\u001b[38;5;241;43m.\u001b[39;49m\u001b[43mload_state_dict\u001b[49m\u001b[43m(\u001b[49m\u001b[43mtorch\u001b[49m\u001b[38;5;241;43m.\u001b[39;49m\u001b[43mload\u001b[49m\u001b[43m(\u001b[49m\u001b[38;5;124;43m'\u001b[39;49m\u001b[38;5;124;43mbest_model.pt\u001b[39;49m\u001b[38;5;124;43m'\u001b[39;49m\u001b[43m,\u001b[49m\u001b[43m \u001b[49m\u001b[43mmap_location\u001b[49m\u001b[38;5;241;43m=\u001b[39;49m\u001b[43mdevice\u001b[49m\u001b[43m)\u001b[49m\u001b[43m)\u001b[49m\n\u001b[1;32m      3\u001b[0m image_tensor,annotation \u001b[38;5;241m=\u001b[39m example_dataset[\u001b[38;5;241m763\u001b[39m]\n\u001b[1;32m      4\u001b[0m \u001b[38;5;28mprint\u001b[39m(image_tensor\u001b[38;5;241m.\u001b[39mshape)\n",
      "File \u001b[0;32m/opt/conda/envs/dml/lib/python3.11/site-packages/torch/nn/modules/module.py:2215\u001b[0m, in \u001b[0;36mModule.load_state_dict\u001b[0;34m(self, state_dict, strict, assign)\u001b[0m\n\u001b[1;32m   2210\u001b[0m         error_msgs\u001b[38;5;241m.\u001b[39minsert(\n\u001b[1;32m   2211\u001b[0m             \u001b[38;5;241m0\u001b[39m, \u001b[38;5;124m'\u001b[39m\u001b[38;5;124mMissing key(s) in state_dict: \u001b[39m\u001b[38;5;132;01m{}\u001b[39;00m\u001b[38;5;124m. \u001b[39m\u001b[38;5;124m'\u001b[39m\u001b[38;5;241m.\u001b[39mformat(\n\u001b[1;32m   2212\u001b[0m                 \u001b[38;5;124m'\u001b[39m\u001b[38;5;124m, \u001b[39m\u001b[38;5;124m'\u001b[39m\u001b[38;5;241m.\u001b[39mjoin(\u001b[38;5;124mf\u001b[39m\u001b[38;5;124m'\u001b[39m\u001b[38;5;124m\"\u001b[39m\u001b[38;5;132;01m{\u001b[39;00mk\u001b[38;5;132;01m}\u001b[39;00m\u001b[38;5;124m\"\u001b[39m\u001b[38;5;124m'\u001b[39m \u001b[38;5;28;01mfor\u001b[39;00m k \u001b[38;5;129;01min\u001b[39;00m missing_keys)))\n\u001b[1;32m   2214\u001b[0m \u001b[38;5;28;01mif\u001b[39;00m \u001b[38;5;28mlen\u001b[39m(error_msgs) \u001b[38;5;241m>\u001b[39m \u001b[38;5;241m0\u001b[39m:\n\u001b[0;32m-> 2215\u001b[0m     \u001b[38;5;28;01mraise\u001b[39;00m \u001b[38;5;167;01mRuntimeError\u001b[39;00m(\u001b[38;5;124m'\u001b[39m\u001b[38;5;124mError(s) in loading state_dict for \u001b[39m\u001b[38;5;132;01m{}\u001b[39;00m\u001b[38;5;124m:\u001b[39m\u001b[38;5;130;01m\\n\u001b[39;00m\u001b[38;5;130;01m\\t\u001b[39;00m\u001b[38;5;132;01m{}\u001b[39;00m\u001b[38;5;124m'\u001b[39m\u001b[38;5;241m.\u001b[39mformat(\n\u001b[1;32m   2216\u001b[0m                        \u001b[38;5;28mself\u001b[39m\u001b[38;5;241m.\u001b[39m\u001b[38;5;18m__class__\u001b[39m\u001b[38;5;241m.\u001b[39m\u001b[38;5;18m__name__\u001b[39m, \u001b[38;5;124m\"\u001b[39m\u001b[38;5;130;01m\\n\u001b[39;00m\u001b[38;5;130;01m\\t\u001b[39;00m\u001b[38;5;124m\"\u001b[39m\u001b[38;5;241m.\u001b[39mjoin(error_msgs)))\n\u001b[1;32m   2217\u001b[0m \u001b[38;5;28;01mreturn\u001b[39;00m _IncompatibleKeys(missing_keys, unexpected_keys)\n",
      "\u001b[0;31mRuntimeError\u001b[0m: Error(s) in loading state_dict for ImageSegmentation:\n\tMissing key(s) in state_dict: \"bn_input.weight\", \"bn_input.bias\", \"bn_input.running_mean\", \"bn_input.running_var\", \"dc1.seq.0.weight\", \"dc1.seq.0.bias\", \"dc1.seq.1.weight\", \"dc1.seq.1.bias\", \"dc1.seq.1.running_mean\", \"dc1.seq.1.running_var\", \"dc1.seq.3.weight\", \"dc1.seq.3.bias\", \"dc1.seq.4.weight\", \"dc1.seq.4.bias\", \"dc1.seq.4.running_mean\", \"dc1.seq.4.running_var\", \"dc5.seq.0.weight\", \"dc5.seq.0.bias\", \"dc5.seq.1.weight\", \"dc5.seq.1.bias\", \"dc5.seq.1.running_mean\", \"dc5.seq.1.running_var\", \"dc5.seq.3.weight\", \"dc5.seq.3.bias\", \"dc5.seq.4.weight\", \"dc5.seq.4.bias\", \"dc5.seq.4.running_mean\", \"dc5.seq.4.running_var\", \"dc5.seq.6.weight\", \"dc5.seq.6.bias\", \"dc5.seq.7.weight\", \"dc5.seq.7.bias\", \"dc5.seq.7.running_mean\", \"dc5.seq.7.running_var\", \"uc5.seq.0.weight\", \"uc5.seq.0.bias\", \"uc5.seq.1.weight\", \"uc5.seq.1.bias\", \"uc5.seq.1.running_mean\", \"uc5.seq.1.running_var\", \"uc5.seq.3.weight\", \"uc5.seq.3.bias\", \"uc5.seq.4.weight\", \"uc5.seq.4.bias\", \"uc5.seq.4.running_mean\", \"uc5.seq.4.running_var\", \"uc5.seq.6.weight\", \"uc5.seq.6.bias\", \"uc5.seq.7.weight\", \"uc5.seq.7.bias\", \"uc5.seq.7.running_mean\", \"uc5.seq.7.running_var\", \"uc1.seq.0.weight\", \"uc1.seq.0.bias\", \"uc1.seq.1.weight\", \"uc1.seq.1.bias\", \"uc1.seq.1.running_mean\", \"uc1.seq.1.running_var\", \"uc1.seq.3.weight\", \"uc1.seq.3.bias\", \"uc1.seq.4.weight\", \"uc1.seq.4.bias\", \"uc1.seq.4.running_mean\", \"uc1.seq.4.running_var\". \n\tUnexpected key(s) in state_dict: \"backbone.conv1.weight\", \"backbone.bn1.weight\", \"backbone.bn1.bias\", \"backbone.bn1.running_mean\", \"backbone.bn1.running_var\", \"backbone.bn1.num_batches_tracked\", \"backbone.layer1.0.conv1.weight\", \"backbone.layer1.0.bn1.weight\", \"backbone.layer1.0.bn1.bias\", \"backbone.layer1.0.bn1.running_mean\", \"backbone.layer1.0.bn1.running_var\", \"backbone.layer1.0.bn1.num_batches_tracked\", \"backbone.layer1.0.conv2.weight\", \"backbone.layer1.0.bn2.weight\", \"backbone.layer1.0.bn2.bias\", \"backbone.layer1.0.bn2.running_mean\", \"backbone.layer1.0.bn2.running_var\", \"backbone.layer1.0.bn2.num_batches_tracked\", \"backbone.layer1.0.conv3.weight\", \"backbone.layer1.0.bn3.weight\", \"backbone.layer1.0.bn3.bias\", \"backbone.layer1.0.bn3.running_mean\", \"backbone.layer1.0.bn3.running_var\", \"backbone.layer1.0.bn3.num_batches_tracked\", \"backbone.layer1.0.downsample.0.weight\", \"backbone.layer1.0.downsample.1.weight\", \"backbone.layer1.0.downsample.1.bias\", \"backbone.layer1.0.downsample.1.running_mean\", \"backbone.layer1.0.downsample.1.running_var\", \"backbone.layer1.0.downsample.1.num_batches_tracked\", \"backbone.layer1.1.conv1.weight\", \"backbone.layer1.1.bn1.weight\", \"backbone.layer1.1.bn1.bias\", \"backbone.layer1.1.bn1.running_mean\", \"backbone.layer1.1.bn1.running_var\", \"backbone.layer1.1.bn1.num_batches_tracked\", \"backbone.layer1.1.conv2.weight\", \"backbone.layer1.1.bn2.weight\", \"backbone.layer1.1.bn2.bias\", \"backbone.layer1.1.bn2.running_mean\", \"backbone.layer1.1.bn2.running_var\", \"backbone.layer1.1.bn2.num_batches_tracked\", \"backbone.layer1.1.conv3.weight\", \"backbone.layer1.1.bn3.weight\", \"backbone.layer1.1.bn3.bias\", \"backbone.layer1.1.bn3.running_mean\", \"backbone.layer1.1.bn3.running_var\", \"backbone.layer1.1.bn3.num_batches_tracked\", \"backbone.layer1.2.conv1.weight\", \"backbone.layer1.2.bn1.weight\", \"backbone.layer1.2.bn1.bias\", \"backbone.layer1.2.bn1.running_mean\", \"backbone.layer1.2.bn1.running_var\", \"backbone.layer1.2.bn1.num_batches_tracked\", \"backbone.layer1.2.conv2.weight\", \"backbone.layer1.2.bn2.weight\", \"backbone.layer1.2.bn2.bias\", \"backbone.layer1.2.bn2.running_mean\", \"backbone.layer1.2.bn2.running_var\", \"backbone.layer1.2.bn2.num_batches_tracked\", \"backbone.layer1.2.conv3.weight\", \"backbone.layer1.2.bn3.weight\", \"backbone.layer1.2.bn3.bias\", \"backbone.layer1.2.bn3.running_mean\", \"backbone.layer1.2.bn3.running_var\", \"backbone.layer1.2.bn3.num_batches_tracked\", \"backbone.layer2.0.conv1.weight\", \"backbone.layer2.0.bn1.weight\", \"backbone.layer2.0.bn1.bias\", \"backbone.layer2.0.bn1.running_mean\", \"backbone.layer2.0.bn1.running_var\", \"backbone.layer2.0.bn1.num_batches_tracked\", \"backbone.layer2.0.conv2.weight\", \"backbone.layer2.0.bn2.weight\", \"backbone.layer2.0.bn2.bias\", \"backbone.layer2.0.bn2.running_mean\", \"backbone.layer2.0.bn2.running_var\", \"backbone.layer2.0.bn2.num_batches_tracked\", \"backbone.layer2.0.conv3.weight\", \"backbone.layer2.0.bn3.weight\", \"backbone.layer2.0.bn3.bias\", \"backbone.layer2.0.bn3.running_mean\", \"backbone.layer2.0.bn3.running_var\", \"backbone.layer2.0.bn3.num_batches_tracked\", \"backbone.layer2.0.downsample.0.weight\", \"backbone.layer2.0.downsample.1.weight\", \"backbone.layer2.0.downsample.1.bias\", \"backbone.layer2.0.downsample.1.running_mean\", \"backbone.layer2.0.downsample.1.running_var\", \"backbone.layer2.0.downsample.1.num_batches_tracked\", \"backbone.layer2.1.conv1.weight\", \"backbone.layer2.1.bn1.weight\", \"backbone.layer2.1.bn1.bias\", \"backbone.layer2.1.bn1.running_mean\", \"backbone.layer2.1.bn1.running_var\", \"backbone.layer2.1.bn1.num_batches_tracked\", \"backbone.layer2.1.conv2.weight\", \"backbone.layer2.1.bn2.weight\", \"backbone.layer2.1.bn2.bias\", \"backbone.layer2.1.bn2.running_mean\", \"backbone.layer2.1.bn2.running_var\", \"backbone.layer2.1.bn2.num_batches_tracked\", \"backbone.layer2.1.conv3.weight\", \"backbone.layer2.1.bn3.weight\", \"backbone.layer2.1.bn3.bias\", \"backbone.layer2.1.bn3.running_mean\", \"backbone.layer2.1.bn3.running_var\", \"backbone.layer2.1.bn3.num_batches_tracked\", \"backbone.layer2.2.conv1.weight\", \"backbone.layer2.2.bn1.weight\", \"backbone.layer2.2.bn1.bias\", \"backbone.layer2.2.bn1.running_mean\", \"backbone.layer2.2.bn1.running_var\", \"backbone.layer2.2.bn1.num_batches_tracked\", \"backbone.layer2.2.conv2.weight\", \"backbone.layer2.2.bn2.weight\", \"backbone.layer2.2.bn2.bias\", \"backbone.layer2.2.bn2.running_mean\", \"backbone.layer2.2.bn2.running_var\", \"backbone.layer2.2.bn2.num_batches_tracked\", \"backbone.layer2.2.conv3.weight\", \"backbone.layer2.2.bn3.weight\", \"backbone.layer2.2.bn3.bias\", \"backbone.layer2.2.bn3.running_mean\", \"backbone.layer2.2.bn3.running_var\", \"backbone.layer2.2.bn3.num_batches_tracked\", \"backbone.layer2.3.conv1.weight\", \"backbone.layer2.3.bn1.weight\", \"backbone.layer2.3.bn1.bias\", \"backbone.layer2.3.bn1.running_mean\", \"backbone.layer2.3.bn1.running_var\", \"backbone.layer2.3.bn1.num_batches_tracked\", \"backbone.layer2.3.conv2.weight\", \"backbone.layer2.3.bn2.weight\", \"backbone.layer2.3.bn2.bias\", \"backbone.layer2.3.bn2.running_mean\", \"backbone.layer2.3.bn2.running_var\", \"backbone.layer2.3.bn2.num_batches_tracked\", \"backbone.layer2.3.conv3.weight\", \"backbone.layer2.3.bn3.weight\", \"backbone.layer2.3.bn3.bias\", \"backbone.layer2.3.bn3.running_mean\", \"backbone.layer2.3.bn3.running_var\", \"backbone.layer2.3.bn3.num_batches_tracked\", \"backbone.layer3.0.conv1.weight\", \"backbone.layer3.0.bn1.weight\", \"backbone.layer3.0.bn1.bias\", \"backbone.layer3.0.bn1.running_mean\", \"backbone.layer3.0.bn1.running_var\", \"backbone.layer3.0.bn1.num_batches_tracked\", \"backbone.layer3.0.conv2.weight\", \"backbone.layer3.0.bn2.weight\", \"backbone.layer3.0.bn2.bias\", \"backbone.layer3.0.bn2.running_mean\", \"backbone.layer3.0.bn2.running_var\", \"backbone.layer3.0.bn2.num_batches_tracked\", \"backbone.layer3.0.conv3.weight\", \"backbone.layer3.0.bn3.weight\", \"backbone.layer3.0.bn3.bias\", \"backbone.layer3.0.bn3.running_mean\", \"backbone.layer3.0.bn3.running_var\", \"backbone.layer3.0.bn3.num_batches_tracked\", \"backbone.layer3.0.downsample.0.weight\", \"backbone.layer3.0.downsample.1.weight\", \"backbone.layer3.0.downsample.1.bias\", \"backbone.layer3.0.downsample.1.running_mean\", \"backbone.layer3.0.downsample.1.running_var\", \"backbone.layer3.0.downsample.1.num_batches_tracked\", \"backbone.layer3.1.conv1.weight\", \"backbone.layer3.1.bn1.weight\", \"backbone.layer3.1.bn1.bias\", \"backbone.layer3.1.bn1.running_mean\", \"backbone.layer3.1.bn1.running_var\", \"backbone.layer3.1.bn1.num_batches_tracked\", \"backbone.layer3.1.conv2.weight\", \"backbone.layer3.1.bn2.weight\", \"backbone.layer3.1.bn2.bias\", \"backbone.layer3.1.bn2.running_mean\", \"backbone.layer3.1.bn2.running_var\", \"backbone.layer3.1.bn2.num_batches_tracked\", \"backbone.layer3.1.conv3.weight\", \"backbone.layer3.1.bn3.weight\", \"backbone.layer3.1.bn3.bias\", \"backbone.layer3.1.bn3.running_mean\", \"backbone.layer3.1.bn3.running_var\", \"backbone.layer3.1.bn3.num_batches_tracked\", \"backbone.layer3.2.conv1.weight\", \"backbone.layer3.2.bn1.weight\", \"backbone.layer3.2.bn1.bias\", \"backbone.layer3.2.bn1.running_mean\", \"backbone.layer3.2.bn1.running_var\", \"backbone.layer3.2.bn1.num_batches_tracked\", \"backbone.layer3.2.conv2.weight\", \"backbone.layer3.2.bn2.weight\", \"backbone.layer3.2.bn2.bias\", \"backbone.layer3.2.bn2.running_mean\", \"backbone.layer3.2.bn2.running_var\", \"backbone.layer3.2.bn2.num_batches_tracked\", \"backbone.layer3.2.conv3.weight\", \"backbone.layer3.2.bn3.weight\", \"backbone.layer3.2.bn3.bias\", \"backbone.layer3.2.bn3.running_mean\", \"backbone.layer3.2.bn3.running_var\", \"backbone.layer3.2.bn3.num_batches_tracked\", \"backbone.layer3.3.conv1.weight\", \"backbone.layer3.3.bn1.weight\", \"backbone.layer3.3.bn1.bias\", \"backbone.layer3.3.bn1.running_mean\", \"backbone.layer3.3.bn1.running_var\", \"backbone.layer3.3.bn1.num_batches_tracked\", \"backbone.layer3.3.conv2.weight\", \"backbone.layer3.3.bn2.weight\", \"backbone.layer3.3.bn2.bias\", \"backbone.layer3.3.bn2.running_mean\", \"backbone.layer3.3.bn2.running_var\", \"backbone.layer3.3.bn2.num_batches_tracked\", \"backbone.layer3.3.conv3.weight\", \"backbone.layer3.3.bn3.weight\", \"backbone.layer3.3.bn3.bias\", \"backbone.layer3.3.bn3.running_mean\", \"backbone.layer3.3.bn3.running_var\", \"backbone.layer3.3.bn3.num_batches_tracked\", \"backbone.layer3.4.conv1.weight\", \"backbone.layer3.4.bn1.weight\", \"backbone.layer3.4.bn1.bias\", \"backbone.layer3.4.bn1.running_mean\", \"backbone.layer3.4.bn1.running_var\", \"backbone.layer3.4.bn1.num_batches_tracked\", \"backbone.layer3.4.conv2.weight\", \"backbone.layer3.4.bn2.weight\", \"backbone.layer3.4.bn2.bias\", \"backbone.layer3.4.bn2.running_mean\", \"backbone.layer3.4.bn2.running_var\", \"backbone.layer3.4.bn2.num_batches_tracked\", \"backbone.layer3.4.conv3.weight\", \"backbone.layer3.4.bn3.weight\", \"backbone.layer3.4.bn3.bias\", \"backbone.layer3.4.bn3.running_mean\", \"backbone.layer3.4.bn3.running_var\", \"backbone.layer3.4.bn3.num_batches_tracked\", \"backbone.layer3.5.conv1.weight\", \"backbone.layer3.5.bn1.weight\", \"backbone.layer3.5.bn1.bias\", \"backbone.layer3.5.bn1.running_mean\", \"backbone.layer3.5.bn1.running_var\", \"backbone.layer3.5.bn1.num_batches_tracked\", \"backbone.layer3.5.conv2.weight\", \"backbone.layer3.5.bn2.weight\", \"backbone.layer3.5.bn2.bias\", \"backbone.layer3.5.bn2.running_mean\", \"backbone.layer3.5.bn2.running_var\", \"backbone.layer3.5.bn2.num_batches_tracked\", \"backbone.layer3.5.conv3.weight\", \"backbone.layer3.5.bn3.weight\", \"backbone.layer3.5.bn3.bias\", \"backbone.layer3.5.bn3.running_mean\", \"backbone.layer3.5.bn3.running_var\", \"backbone.layer3.5.bn3.num_batches_tracked\", \"backbone.layer3.6.conv1.weight\", \"backbone.layer3.6.bn1.weight\", \"backbone.layer3.6.bn1.bias\", \"backbone.layer3.6.bn1.running_mean\", \"backbone.layer3.6.bn1.running_var\", \"backbone.layer3.6.bn1.num_batches_tracked\", \"backbone.layer3.6.conv2.weight\", \"backbone.layer3.6.bn2.weight\", \"backbone.layer3.6.bn2.bias\", \"backbone.layer3.6.bn2.running_mean\", \"backbone.layer3.6.bn2.running_var\", \"backbone.layer3.6.bn2.num_batches_tracked\", \"backbone.layer3.6.conv3.weight\", \"backbone.layer3.6.bn3.weight\", \"backbone.layer3.6.bn3.bias\", \"backbone.layer3.6.bn3.running_mean\", \"backbone.layer3.6.bn3.running_var\", \"backbone.layer3.6.bn3.num_batches_tracked\", \"backbone.layer3.7.conv1.weight\", \"backbone.layer3.7.bn1.weight\", \"backbone.layer3.7.bn1.bias\", \"backbone.layer3.7.bn1.running_mean\", \"backbone.layer3.7.bn1.running_var\", \"backbone.layer3.7.bn1.num_batches_tracked\", \"backbone.layer3.7.conv2.weight\", \"backbone.layer3.7.bn2.weight\", \"backbone.layer3.7.bn2.bias\", \"backbone.layer3.7.bn2.running_mean\", \"backbone.layer3.7.bn2.running_var\", \"backbone.layer3.7.bn2.num_batches_tracked\", \"backbone.layer3.7.conv3.weight\", \"backbone.layer3.7.bn3.weight\", \"backbone.layer3.7.bn3.bias\", \"backbone.layer3.7.bn3.running_mean\", \"backbone.layer3.7.bn3.running_var\", \"backbone.layer3.7.bn3.num_batches_tracked\", \"backbone.layer3.8.conv1.weight\", \"backbone.layer3.8.bn1.weight\", \"backbone.layer3.8.bn1.bias\", \"backbone.layer3.8.bn1.running_mean\", \"backbone.layer3.8.bn1.running_var\", \"backbone.layer3.8.bn1.num_batches_tracked\", \"backbone.layer3.8.conv2.weight\", \"backbone.layer3.8.bn2.weight\", \"backbone.layer3.8.bn2.bias\", \"backbone.layer3.8.bn2.running_mean\", \"backbone.layer3.8.bn2.running_var\", \"backbone.layer3.8.bn2.num_batches_tracked\", \"backbone.layer3.8.conv3.weight\", \"backbone.layer3.8.bn3.weight\", \"backbone.layer3.8.bn3.bias\", \"backbone.layer3.8.bn3.running_mean\", \"backbone.layer3.8.bn3.running_var\", \"backbone.layer3.8.bn3.num_batches_tracked\", \"backbone.layer3.9.conv1.weight\", \"backbone.layer3.9.bn1.weight\", \"backbone.layer3.9.bn1.bias\", \"backbone.layer3.9.bn1.running_mean\", \"backbone.layer3.9.bn1.running_var\", \"backbone.layer3.9.bn1.num_batches_tracked\", \"backbone.layer3.9.conv2.weight\", \"backbone.layer3.9.bn2.weight\", \"backbone.layer3.9.bn2.bias\", \"backbone.layer3.9.bn2.running_mean\", \"backbone.layer3.9.bn2.running_var\", \"backbone.layer3.9.bn2.num_batches_tracked\", \"backbone.layer3.9.conv3.weight\", \"backbone.layer3.9.bn3.weight\", \"backbone.layer3.9.bn3.bias\", \"backbone.layer3.9.bn3.running_mean\", \"backbone.layer3.9.bn3.running_var\", \"backbone.layer3.9.bn3.num_batches_tracked\", \"backbone.layer3.10.conv1.weight\", \"backbone.layer3.10.bn1.weight\", \"backbone.layer3.10.bn1.bias\", \"backbone.layer3.10.bn1.running_mean\", \"backbone.layer3.10.bn1.running_var\", \"backbone.layer3.10.bn1.num_batches_tracked\", \"backbone.layer3.10.conv2.weight\", \"backbone.layer3.10.bn2.weight\", \"backbone.layer3.10.bn2.bias\", \"backbone.layer3.10.bn2.running_mean\", \"backbone.layer3.10.bn2.running_var\", \"backbone.layer3.10.bn2.num_batches_tracked\", \"backbone.layer3.10.conv3.weight\", \"backbone.layer3.10.bn3.weight\", \"backbone.layer3.10.bn3.bias\", \"backbone.layer3.10.bn3.running_mean\", \"backbone.layer3.10.bn3.running_var\", \"backbone.layer3.10.bn3.num_batches_tracked\", \"backbone.layer3.11.conv1.weight\", \"backbone.layer3.11.bn1.weight\", \"backbone.layer3.11.bn1.bias\", \"backbone.layer3.11.bn1.running_mean\", \"backbone.layer3.11.bn1.running_var\", \"backbone.layer3.11.bn1.num_batches_tracked\", \"backbone.layer3.11.conv2.weight\", \"backbone.layer3.11.bn2.weight\", \"backbone.layer3.11.bn2.bias\", \"backbone.layer3.11.bn2.running_mean\", \"backbone.layer3.11.bn2.running_var\", \"backbone.layer3.11.bn2.num_batches_tracked\", \"backbone.layer3.11.conv3.weight\", \"backbone.layer3.11.bn3.weight\", \"backbone.layer3.11.bn3.bias\", \"backbone.layer3.11.bn3.running_mean\", \"backbone.layer3.11.bn3.running_var\", \"backbone.layer3.11.bn3.num_batches_tracked\", \"backbone.layer3.12.conv1.weight\", \"backbone.layer3.12.bn1.weight\", \"backbone.layer3.12.bn1.bias\", \"backbone.layer3.12.bn1.running_mean\", \"backbone.layer3.12.bn1.running_var\", \"backbone.layer3.12.bn1.num_batches_tracked\", \"backbone.layer3.12.conv2.weight\", \"backbone.layer3.12.bn2.weight\", \"backbone.layer3.12.bn2.bias\", \"backbone.layer3.12.bn2.running_mean\", \"backbone.layer3.12.bn2.running_var\", \"backbone.layer3.12.bn2.num_batches_tracked\", \"backbone.layer3.12.conv3.weight\", \"backbone.layer3.12.bn3.weight\", \"backbone.layer3.12.bn3.bias\", \"backbone.layer3.12.bn3.running_mean\", \"backbone.layer3.12.bn3.running_var\", \"backbone.layer3.12.bn3.num_batches_tracked\", \"backbone.layer3.13.conv1.weight\", \"backbone.layer3.13.bn1.weight\", \"backbone.layer3.13.bn1.bias\", \"backbone.layer3.13.bn1.running_mean\", \"backbone.layer3.13.bn1.running_var\", \"backbone.layer3.13.bn1.num_batches_tracked\", \"backbone.layer3.13.conv2.weight\", \"backbone.layer3.13.bn2.weight\", \"backbone.layer3.13.bn2.bias\", \"backbone.layer3.13.bn2.running_mean\", \"backbone.layer3.13.bn2.running_var\", \"backbone.layer3.13.bn2.num_batches_tracked\", \"backbone.layer3.13.conv3.weight\", \"backbone.layer3.13.bn3.weight\", \"backbone.layer3.13.bn3.bias\", \"backbone.layer3.13.bn3.running_mean\", \"backbone.layer3.13.bn3.running_var\", \"backbone.layer3.13.bn3.num_batches_tracked\", \"backbone.layer3.14.conv1.weight\", \"backbone.layer3.14.bn1.weight\", \"backbone.layer3.14.bn1.bias\", \"backbone.layer3.14.bn1.running_mean\", \"backbone.layer3.14.bn1.running_var\", \"backbone.layer3.14.bn1.num_batches_tracked\", \"backbone.layer3.14.conv2.weight\", \"backbone.layer3.14.bn2.weight\", \"backbone.layer3.14.bn2.bias\", \"backbone.layer3.14.bn2.running_mean\", \"backbone.layer3.14.bn2.running_var\", \"backbone.layer3.14.bn2.num_batches_tracked\", \"backbone.layer3.14.conv3.weight\", \"backbone.layer3.14.bn3.weight\", \"backbone.layer3.14.bn3.bias\", \"backbone.layer3.14.bn3.running_mean\", \"backbone.layer3.14.bn3.running_var\", \"backbone.layer3.14.bn3.num_batches_tracked\", \"backbone.layer3.15.conv1.weight\", \"backbone.layer3.15.bn1.weight\", \"backbone.layer3.15.bn1.bias\", \"backbone.layer3.15.bn1.running_mean\", \"backbone.layer3.15.bn1.running_var\", \"backbone.layer3.15.bn1.num_batches_tracked\", \"backbone.layer3.15.conv2.weight\", \"backbone.layer3.15.bn2.weight\", \"backbone.layer3.15.bn2.bias\", \"backbone.layer3.15.bn2.running_mean\", \"backbone.layer3.15.bn2.running_var\", \"backbone.layer3.15.bn2.num_batches_tracked\", \"backbone.layer3.15.conv3.weight\", \"backbone.layer3.15.bn3.weight\", \"backbone.layer3.15.bn3.bias\", \"backbone.layer3.15.bn3.running_mean\", \"backbone.layer3.15.bn3.running_var\", \"backbone.layer3.15.bn3.num_batches_tracked\", \"backbone.layer3.16.conv1.weight\", \"backbone.layer3.16.bn1.weight\", \"backbone.layer3.16.bn1.bias\", \"backbone.layer3.16.bn1.running_mean\", \"backbone.layer3.16.bn1.running_var\", \"backbone.layer3.16.bn1.num_batches_tracked\", \"backbone.layer3.16.conv2.weight\", \"backbone.layer3.16.bn2.weight\", \"backbone.layer3.16.bn2.bias\", \"backbone.layer3.16.bn2.running_mean\", \"backbone.layer3.16.bn2.running_var\", \"backbone.layer3.16.bn2.num_batches_tracked\", \"backbone.layer3.16.conv3.weight\", \"backbone.layer3.16.bn3.weight\", \"backbone.layer3.16.bn3.bias\", \"backbone.layer3.16.bn3.running_mean\", \"backbone.layer3.16.bn3.running_var\", \"backbone.layer3.16.bn3.num_batches_tracked\", \"backbone.layer3.17.conv1.weight\", \"backbone.layer3.17.bn1.weight\", \"backbone.layer3.17.bn1.bias\", \"backbone.layer3.17.bn1.running_mean\", \"backbone.layer3.17.bn1.running_var\", \"backbone.layer3.17.bn1.num_batches_tracked\", \"backbone.layer3.17.conv2.weight\", \"backbone.layer3.17.bn2.weight\", \"backbone.layer3.17.bn2.bias\", \"backbone.layer3.17.bn2.running_mean\", \"backbone.layer3.17.bn2.running_var\", \"backbone.layer3.17.bn2.num_batches_tracked\", \"backbone.layer3.17.conv3.weight\", \"backbone.layer3.17.bn3.weight\", \"backbone.layer3.17.bn3.bias\", \"backbone.layer3.17.bn3.running_mean\", \"backbone.layer3.17.bn3.running_var\", \"backbone.layer3.17.bn3.num_batches_tracked\", \"backbone.layer3.18.conv1.weight\", \"backbone.layer3.18.bn1.weight\", \"backbone.layer3.18.bn1.bias\", \"backbone.layer3.18.bn1.running_mean\", \"backbone.layer3.18.bn1.running_var\", \"backbone.layer3.18.bn1.num_batches_tracked\", \"backbone.layer3.18.conv2.weight\", \"backbone.layer3.18.bn2.weight\", \"backbone.layer3.18.bn2.bias\", \"backbone.layer3.18.bn2.running_mean\", \"backbone.layer3.18.bn2.running_var\", \"backbone.layer3.18.bn2.num_batches_tracked\", \"backbone.layer3.18.conv3.weight\", \"backbone.layer3.18.bn3.weight\", \"backbone.layer3.18.bn3.bias\", \"backbone.layer3.18.bn3.running_mean\", \"backbone.layer3.18.bn3.running_var\", \"backbone.layer3.18.bn3.num_batches_tracked\", \"backbone.layer3.19.conv1.weight\", \"backbone.layer3.19.bn1.weight\", \"backbone.layer3.19.bn1.bias\", \"backbone.layer3.19.bn1.running_mean\", \"backbone.layer3.19.bn1.running_var\", \"backbone.layer3.19.bn1.num_batches_tracked\", \"backbone.layer3.19.conv2.weight\", \"backbone.layer3.19.bn2.weight\", \"backbone.layer3.19.bn2.bias\", \"backbone.layer3.19.bn2.running_mean\", \"backbone.layer3.19.bn2.running_var\", \"backbone.layer3.19.bn2.num_batches_tracked\", \"backbone.layer3.19.conv3.weight\", \"backbone.layer3.19.bn3.weight\", \"backbone.layer3.19.bn3.bias\", \"backbone.layer3.19.bn3.running_mean\", \"backbone.layer3.19.bn3.running_var\", \"backbone.layer3.19.bn3.num_batches_tracked\", \"backbone.layer3.20.conv1.weight\", \"backbone.layer3.20.bn1.weight\", \"backbone.layer3.20.bn1.bias\", \"backbone.layer3.20.bn1.running_mean\", \"backbone.layer3.20.bn1.running_var\", \"backbone.layer3.20.bn1.num_batches_tracked\", \"backbone.layer3.20.conv2.weight\", \"backbone.layer3.20.bn2.weight\", \"backbone.layer3.20.bn2.bias\", \"backbone.layer3.20.bn2.running_mean\", \"backbone.layer3.20.bn2.running_var\", \"backbone.layer3.20.bn2.num_batches_tracked\", \"backbone.layer3.20.conv3.weight\", \"backbone.layer3.20.bn3.weight\", \"backbone.layer3.20.bn3.bias\", \"backbone.layer3.20.bn3.running_mean\", \"backbone.layer3.20.bn3.running_var\", \"backbone.layer3.20.bn3.num_batches_tracked\", \"backbone.layer3.21.conv1.weight\", \"backbone.layer3.21.bn1.weight\", \"backbone.layer3.21.bn1.bias\", \"backbone.layer3.21.bn1.running_mean\", \"backbone.layer3.21.bn1.running_var\", \"backbone.layer3.21.bn1.num_batches_tracked\", \"backbone.layer3.21.conv2.weight\", \"backbone.layer3.21.bn2.weight\", \"backbone.layer3.21.bn2.bias\", \"backbone.layer3.21.bn2.running_mean\", \"backbone.layer3.21.bn2.running_var\", \"backbone.layer3.21.bn2.num_batches_tracked\", \"backbone.layer3.21.conv3.weight\", \"backbone.layer3.21.bn3.weight\", \"backbone.layer3.21.bn3.bias\", \"backbone.layer3.21.bn3.running_mean\", \"backbone.layer3.21.bn3.running_var\", \"backbone.layer3.21.bn3.num_batches_tracked\", \"backbone.layer3.22.conv1.weight\", \"backbone.layer3.22.bn1.weight\", \"backbone.layer3.22.bn1.bias\", \"backbone.layer3.22.bn1.running_mean\", \"backbone.layer3.22.bn1.running_var\", \"backbone.layer3.22.bn1.num_batches_tracked\", \"backbone.layer3.22.conv2.weight\", \"backbone.layer3.22.bn2.weight\", \"backbone.layer3.22.bn2.bias\", \"backbone.layer3.22.bn2.running_mean\", \"backbone.layer3.22.bn2.running_var\", \"backbone.layer3.22.bn2.num_batches_tracked\", \"backbone.layer3.22.conv3.weight\", \"backbone.layer3.22.bn3.weight\", \"backbone.layer3.22.bn3.bias\", \"backbone.layer3.22.bn3.running_mean\", \"backbone.layer3.22.bn3.running_var\", \"backbone.layer3.22.bn3.num_batches_tracked\", \"backbone.layer4.0.conv1.weight\", \"backbone.layer4.0.bn1.weight\", \"backbone.layer4.0.bn1.bias\", \"backbone.layer4.0.bn1.running_mean\", \"backbone.layer4.0.bn1.running_var\", \"backbone.layer4.0.bn1.num_batches_tracked\", \"backbone.layer4.0.conv2.weight\", \"backbone.layer4.0.bn2.weight\", \"backbone.layer4.0.bn2.bias\", \"backbone.layer4.0.bn2.running_mean\", \"backbone.layer4.0.bn2.running_var\", \"backbone.layer4.0.bn2.num_batches_tracked\", \"backbone.layer4.0.conv3.weight\", \"backbone.layer4.0.bn3.weight\", \"backbone.layer4.0.bn3.bias\", \"backbone.layer4.0.bn3.running_mean\", \"backbone.layer4.0.bn3.running_var\", \"backbone.layer4.0.bn3.num_batches_tracked\", \"backbone.layer4.0.downsample.0.weight\", \"backbone.layer4.0.downsample.1.weight\", \"backbone.layer4.0.downsample.1.bias\", \"backbone.layer4.0.downsample.1.running_mean\", \"backbone.layer4.0.downsample.1.running_var\", \"backbone.layer4.0.downsample.1.num_batches_tracked\", \"backbone.layer4.1.conv1.weight\", \"backbone.layer4.1.bn1.weight\", \"backbone.layer4.1.bn1.bias\", \"backbone.layer4.1.bn1.running_mean\", \"backbone.layer4.1.bn1.running_var\", \"backbone.layer4.1.bn1.num_batches_tracked\", \"backbone.layer4.1.conv2.weight\", \"backbone.layer4.1.bn2.weight\", \"backbone.layer4.1.bn2.bias\", \"backbone.layer4.1.bn2.running_mean\", \"backbone.layer4.1.bn2.running_var\", \"backbone.layer4.1.bn2.num_batches_tracked\", \"backbone.layer4.1.conv3.weight\", \"backbone.layer4.1.bn3.weight\", \"backbone.layer4.1.bn3.bias\", \"backbone.layer4.1.bn3.running_mean\", \"backbone.layer4.1.bn3.running_var\", \"backbone.layer4.1.bn3.num_batches_tracked\", \"backbone.layer4.2.conv1.weight\", \"backbone.layer4.2.bn1.weight\", \"backbone.layer4.2.bn1.bias\", \"backbone.layer4.2.bn1.running_mean\", \"backbone.layer4.2.bn1.running_var\", \"backbone.layer4.2.bn1.num_batches_tracked\", \"backbone.layer4.2.conv2.weight\", \"backbone.layer4.2.bn2.weight\", \"backbone.layer4.2.bn2.bias\", \"backbone.layer4.2.bn2.running_mean\", \"backbone.layer4.2.bn2.running_var\", \"backbone.layer4.2.bn2.num_batches_tracked\", \"backbone.layer4.2.conv3.weight\", \"backbone.layer4.2.bn3.weight\", \"backbone.layer4.2.bn3.bias\", \"backbone.layer4.2.bn3.running_mean\", \"backbone.layer4.2.bn3.running_var\", \"backbone.layer4.2.bn3.num_batches_tracked\", \"classifier.0.convs.0.0.weight\", \"classifier.0.convs.0.1.weight\", \"classifier.0.convs.0.1.bias\", \"classifier.0.convs.0.1.running_mean\", \"classifier.0.convs.0.1.running_var\", \"classifier.0.convs.0.1.num_batches_tracked\", \"classifier.0.convs.1.0.weight\", \"classifier.0.convs.1.1.weight\", \"classifier.0.convs.1.1.bias\", \"classifier.0.convs.1.1.running_mean\", \"classifier.0.convs.1.1.running_var\", \"classifier.0.convs.1.1.num_batches_tracked\", \"classifier.0.convs.2.0.weight\", \"classifier.0.convs.2.1.weight\", \"classifier.0.convs.2.1.bias\", \"classifier.0.convs.2.1.running_mean\", \"classifier.0.convs.2.1.running_var\", \"classifier.0.convs.2.1.num_batches_tracked\", \"classifier.0.convs.3.0.weight\", \"classifier.0.convs.3.1.weight\", \"classifier.0.convs.3.1.bias\", \"classifier.0.convs.3.1.running_mean\", \"classifier.0.convs.3.1.running_var\", \"classifier.0.convs.3.1.num_batches_tracked\", \"classifier.0.convs.4.1.weight\", \"classifier.0.convs.4.2.weight\", \"classifier.0.convs.4.2.bias\", \"classifier.0.convs.4.2.running_mean\", \"classifier.0.convs.4.2.running_var\", \"classifier.0.convs.4.2.num_batches_tracked\", \"classifier.0.project.0.weight\", \"classifier.0.project.1.weight\", \"classifier.0.project.1.bias\", \"classifier.0.project.1.running_mean\", \"classifier.0.project.1.running_var\", \"classifier.0.project.1.num_batches_tracked\", \"classifier.1.weight\", \"classifier.2.weight\", \"classifier.2.bias\", \"classifier.2.running_mean\", \"classifier.2.running_var\", \"classifier.2.num_batches_tracked\", \"classifier.4.weight\", \"classifier.4.bias\". "
     ]
    }
   ],
   "source": [
    "\n",
    "\n",
    "model = ImageSegmentation(3)\n",
    "model.load_state_dict(torch.load('best_model.pt', map_location=device))\n",
    "image_tensor,annotation = example_dataset[763]\n",
    "print(image_tensor.shape)\n",
    "image_tensor1 = image_tensor.unsqueeze(0).repeat(1, 1, 1, 1)\n",
    "\n",
    "with torch.no_grad():\n",
    "    pred = model(image_tensor1)\n",
    "print(pred.shape)\n",
    "pred = torch.argmax(pred, dim=1).squeeze(0)\n",
    "print(pred.shape)\n",
    "\n",
    "\n",
    "plt.figure(figsize=(15, 5))\n",
    "plt.subplot(1, 3, 1)\n",
    "plt.imshow(image_tensor.permute(1, 2, 0))\n",
    "plt.title(\"The Image\")\n",
    "plt.axis('off')\n",
    "\n",
    "plt.subplot(1, 3, 2)\n",
    "plt.imshow((torch.argmax(annotation, dim=1).squeeze(0))/256)\n",
    "plt.title(\"Real Mask\")\n",
    "plt.axis('off')\n",
    "\n",
    "plt.subplot(1, 3, 3)\n",
    "plt.imshow(pred/256)\n",
    "plt.title(\"Predicted Mask\")\n",
    "plt.axis('off')\n",
    "\n"
   ]
  },
  {
   "cell_type": "code",
   "execution_count": null,
   "metadata": {},
   "outputs": [],
   "source": []
  }
 ],
 "metadata": {
  "kernelspec": {
   "display_name": "Python 3 (ipykernel)",
   "language": "python",
   "name": "python3"
  },
  "language_info": {
   "codemirror_mode": {
    "name": "ipython",
    "version": 3
   },
   "file_extension": ".py",
   "mimetype": "text/x-python",
   "name": "python",
   "nbconvert_exporter": "python",
   "pygments_lexer": "ipython3",
   "version": "3.11.10"
  }
 },
 "nbformat": 4,
 "nbformat_minor": 4
}
